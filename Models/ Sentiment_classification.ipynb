{
  "nbformat": 4,
  "nbformat_minor": 0,
  "metadata": {
    "colab": {
      "name": "Non Dup Notebook.ipynb",
      "provenance": [],
      "collapsed_sections": [
        "2yxYwcRPd4pg",
        "BkT2yD-YK6HC",
        "_hKejS6wM5XH",
        "jafUZhDAe0UP",
        "A8uzcrYK8nUP"
      ],
      "toc_visible": true,
      "include_colab_link": true
    },
    "kernelspec": {
      "display_name": "Python 3",
      "name": "python3"
    },
    "widgets": {
      "application/vnd.jupyter.widget-state+json": {
        "c59bf014220c4f4ea3609a0d5b4dd9ea": {
          "model_module": "@jupyter-widgets/controls",
          "model_name": "HBoxModel",
          "state": {
            "_view_name": "HBoxView",
            "_dom_classes": [],
            "_model_name": "HBoxModel",
            "_view_module": "@jupyter-widgets/controls",
            "_model_module_version": "1.5.0",
            "_view_count": null,
            "_view_module_version": "1.5.0",
            "box_style": "",
            "layout": "IPY_MODEL_e15964bd0df74b599fe441b0ba8657c4",
            "_model_module": "@jupyter-widgets/controls",
            "children": [
              "IPY_MODEL_5fb6050dfb934af69b1b91aa276fca3f",
              "IPY_MODEL_d40f03005340466ca2d38c1a44f488b1"
            ]
          }
        },
        "e15964bd0df74b599fe441b0ba8657c4": {
          "model_module": "@jupyter-widgets/base",
          "model_name": "LayoutModel",
          "state": {
            "_view_name": "LayoutView",
            "grid_template_rows": null,
            "right": null,
            "justify_content": null,
            "_view_module": "@jupyter-widgets/base",
            "overflow": null,
            "_model_module_version": "1.2.0",
            "_view_count": null,
            "flex_flow": null,
            "width": null,
            "min_width": null,
            "border": null,
            "align_items": null,
            "bottom": null,
            "_model_module": "@jupyter-widgets/base",
            "top": null,
            "grid_column": null,
            "overflow_y": null,
            "overflow_x": null,
            "grid_auto_flow": null,
            "grid_area": null,
            "grid_template_columns": null,
            "flex": null,
            "_model_name": "LayoutModel",
            "justify_items": null,
            "grid_row": null,
            "max_height": null,
            "align_content": null,
            "visibility": null,
            "align_self": null,
            "height": null,
            "min_height": null,
            "padding": null,
            "grid_auto_rows": null,
            "grid_gap": null,
            "max_width": null,
            "order": null,
            "_view_module_version": "1.2.0",
            "grid_template_areas": null,
            "object_position": null,
            "object_fit": null,
            "grid_auto_columns": null,
            "margin": null,
            "display": null,
            "left": null
          }
        },
        "5fb6050dfb934af69b1b91aa276fca3f": {
          "model_module": "@jupyter-widgets/controls",
          "model_name": "FloatProgressModel",
          "state": {
            "_view_name": "ProgressView",
            "style": "IPY_MODEL_45b58ae7b92041c0a904c22192e00cc2",
            "_dom_classes": [],
            "description": "Downloading: 100%",
            "_model_name": "FloatProgressModel",
            "bar_style": "success",
            "max": 701,
            "_view_module": "@jupyter-widgets/controls",
            "_model_module_version": "1.5.0",
            "value": 701,
            "_view_count": null,
            "_view_module_version": "1.5.0",
            "orientation": "horizontal",
            "min": 0,
            "description_tooltip": null,
            "_model_module": "@jupyter-widgets/controls",
            "layout": "IPY_MODEL_06d2abdf7d75426a8bdcdb2ebaf247b4"
          }
        },
        "d40f03005340466ca2d38c1a44f488b1": {
          "model_module": "@jupyter-widgets/controls",
          "model_name": "HTMLModel",
          "state": {
            "_view_name": "HTMLView",
            "style": "IPY_MODEL_34346ab249ba42e09f8ab14d4fc9b864",
            "_dom_classes": [],
            "description": "",
            "_model_name": "HTMLModel",
            "placeholder": "​",
            "_view_module": "@jupyter-widgets/controls",
            "_model_module_version": "1.5.0",
            "value": " 701/701 [00:00&lt;00:00, 1.38kB/s]",
            "_view_count": null,
            "_view_module_version": "1.5.0",
            "description_tooltip": null,
            "_model_module": "@jupyter-widgets/controls",
            "layout": "IPY_MODEL_0c2529a8f8cd4206abbd8d3eeb50f73e"
          }
        },
        "45b58ae7b92041c0a904c22192e00cc2": {
          "model_module": "@jupyter-widgets/controls",
          "model_name": "ProgressStyleModel",
          "state": {
            "_view_name": "StyleView",
            "_model_name": "ProgressStyleModel",
            "description_width": "initial",
            "_view_module": "@jupyter-widgets/base",
            "_model_module_version": "1.5.0",
            "_view_count": null,
            "_view_module_version": "1.2.0",
            "bar_color": null,
            "_model_module": "@jupyter-widgets/controls"
          }
        },
        "06d2abdf7d75426a8bdcdb2ebaf247b4": {
          "model_module": "@jupyter-widgets/base",
          "model_name": "LayoutModel",
          "state": {
            "_view_name": "LayoutView",
            "grid_template_rows": null,
            "right": null,
            "justify_content": null,
            "_view_module": "@jupyter-widgets/base",
            "overflow": null,
            "_model_module_version": "1.2.0",
            "_view_count": null,
            "flex_flow": null,
            "width": null,
            "min_width": null,
            "border": null,
            "align_items": null,
            "bottom": null,
            "_model_module": "@jupyter-widgets/base",
            "top": null,
            "grid_column": null,
            "overflow_y": null,
            "overflow_x": null,
            "grid_auto_flow": null,
            "grid_area": null,
            "grid_template_columns": null,
            "flex": null,
            "_model_name": "LayoutModel",
            "justify_items": null,
            "grid_row": null,
            "max_height": null,
            "align_content": null,
            "visibility": null,
            "align_self": null,
            "height": null,
            "min_height": null,
            "padding": null,
            "grid_auto_rows": null,
            "grid_gap": null,
            "max_width": null,
            "order": null,
            "_view_module_version": "1.2.0",
            "grid_template_areas": null,
            "object_position": null,
            "object_fit": null,
            "grid_auto_columns": null,
            "margin": null,
            "display": null,
            "left": null
          }
        },
        "34346ab249ba42e09f8ab14d4fc9b864": {
          "model_module": "@jupyter-widgets/controls",
          "model_name": "DescriptionStyleModel",
          "state": {
            "_view_name": "StyleView",
            "_model_name": "DescriptionStyleModel",
            "description_width": "",
            "_view_module": "@jupyter-widgets/base",
            "_model_module_version": "1.5.0",
            "_view_count": null,
            "_view_module_version": "1.2.0",
            "_model_module": "@jupyter-widgets/controls"
          }
        },
        "0c2529a8f8cd4206abbd8d3eeb50f73e": {
          "model_module": "@jupyter-widgets/base",
          "model_name": "LayoutModel",
          "state": {
            "_view_name": "LayoutView",
            "grid_template_rows": null,
            "right": null,
            "justify_content": null,
            "_view_module": "@jupyter-widgets/base",
            "overflow": null,
            "_model_module_version": "1.2.0",
            "_view_count": null,
            "flex_flow": null,
            "width": null,
            "min_width": null,
            "border": null,
            "align_items": null,
            "bottom": null,
            "_model_module": "@jupyter-widgets/base",
            "top": null,
            "grid_column": null,
            "overflow_y": null,
            "overflow_x": null,
            "grid_auto_flow": null,
            "grid_area": null,
            "grid_template_columns": null,
            "flex": null,
            "_model_name": "LayoutModel",
            "justify_items": null,
            "grid_row": null,
            "max_height": null,
            "align_content": null,
            "visibility": null,
            "align_self": null,
            "height": null,
            "min_height": null,
            "padding": null,
            "grid_auto_rows": null,
            "grid_gap": null,
            "max_width": null,
            "order": null,
            "_view_module_version": "1.2.0",
            "grid_template_areas": null,
            "object_position": null,
            "object_fit": null,
            "grid_auto_columns": null,
            "margin": null,
            "display": null,
            "left": null
          }
        },
        "f72e81bc48ef471dbe1395fba713f535": {
          "model_module": "@jupyter-widgets/controls",
          "model_name": "HBoxModel",
          "state": {
            "_view_name": "HBoxView",
            "_dom_classes": [],
            "_model_name": "HBoxModel",
            "_view_module": "@jupyter-widgets/controls",
            "_model_module_version": "1.5.0",
            "_view_count": null,
            "_view_module_version": "1.5.0",
            "box_style": "",
            "layout": "IPY_MODEL_fa292e82265b48d194db83cfd72b3a3c",
            "_model_module": "@jupyter-widgets/controls",
            "children": [
              "IPY_MODEL_024e41ba40e34b6aa458cc817714f8f1",
              "IPY_MODEL_770874f578514db494eab879fda5d6bb"
            ]
          }
        },
        "fa292e82265b48d194db83cfd72b3a3c": {
          "model_module": "@jupyter-widgets/base",
          "model_name": "LayoutModel",
          "state": {
            "_view_name": "LayoutView",
            "grid_template_rows": null,
            "right": null,
            "justify_content": null,
            "_view_module": "@jupyter-widgets/base",
            "overflow": null,
            "_model_module_version": "1.2.0",
            "_view_count": null,
            "flex_flow": null,
            "width": null,
            "min_width": null,
            "border": null,
            "align_items": null,
            "bottom": null,
            "_model_module": "@jupyter-widgets/base",
            "top": null,
            "grid_column": null,
            "overflow_y": null,
            "overflow_x": null,
            "grid_auto_flow": null,
            "grid_area": null,
            "grid_template_columns": null,
            "flex": null,
            "_model_name": "LayoutModel",
            "justify_items": null,
            "grid_row": null,
            "max_height": null,
            "align_content": null,
            "visibility": null,
            "align_self": null,
            "height": null,
            "min_height": null,
            "padding": null,
            "grid_auto_rows": null,
            "grid_gap": null,
            "max_width": null,
            "order": null,
            "_view_module_version": "1.2.0",
            "grid_template_areas": null,
            "object_position": null,
            "object_fit": null,
            "grid_auto_columns": null,
            "margin": null,
            "display": null,
            "left": null
          }
        },
        "024e41ba40e34b6aa458cc817714f8f1": {
          "model_module": "@jupyter-widgets/controls",
          "model_name": "FloatProgressModel",
          "state": {
            "_view_name": "ProgressView",
            "style": "IPY_MODEL_40cd3afca8284ebeb9c73d53af83ecac",
            "_dom_classes": [],
            "description": "Downloading: 100%",
            "_model_name": "FloatProgressModel",
            "bar_style": "success",
            "max": 1099714,
            "_view_module": "@jupyter-widgets/controls",
            "_model_module_version": "1.5.0",
            "value": 1099714,
            "_view_count": null,
            "_view_module_version": "1.5.0",
            "orientation": "horizontal",
            "min": 0,
            "description_tooltip": null,
            "_model_module": "@jupyter-widgets/controls",
            "layout": "IPY_MODEL_219aff0ca91b4e1abd4fdaf20a443a78"
          }
        },
        "770874f578514db494eab879fda5d6bb": {
          "model_module": "@jupyter-widgets/controls",
          "model_name": "HTMLModel",
          "state": {
            "_view_name": "HTMLView",
            "style": "IPY_MODEL_3747472eafc34a14bfe5ba8b93be022c",
            "_dom_classes": [],
            "description": "",
            "_model_name": "HTMLModel",
            "placeholder": "​",
            "_view_module": "@jupyter-widgets/controls",
            "_model_module_version": "1.5.0",
            "value": " 1.10M/1.10M [00:01&lt;00:00, 650kB/s]",
            "_view_count": null,
            "_view_module_version": "1.5.0",
            "description_tooltip": null,
            "_model_module": "@jupyter-widgets/controls",
            "layout": "IPY_MODEL_52f99e61287146e6958fabf3495b0cbe"
          }
        },
        "40cd3afca8284ebeb9c73d53af83ecac": {
          "model_module": "@jupyter-widgets/controls",
          "model_name": "ProgressStyleModel",
          "state": {
            "_view_name": "StyleView",
            "_model_name": "ProgressStyleModel",
            "description_width": "initial",
            "_view_module": "@jupyter-widgets/base",
            "_model_module_version": "1.5.0",
            "_view_count": null,
            "_view_module_version": "1.2.0",
            "bar_color": null,
            "_model_module": "@jupyter-widgets/controls"
          }
        },
        "219aff0ca91b4e1abd4fdaf20a443a78": {
          "model_module": "@jupyter-widgets/base",
          "model_name": "LayoutModel",
          "state": {
            "_view_name": "LayoutView",
            "grid_template_rows": null,
            "right": null,
            "justify_content": null,
            "_view_module": "@jupyter-widgets/base",
            "overflow": null,
            "_model_module_version": "1.2.0",
            "_view_count": null,
            "flex_flow": null,
            "width": null,
            "min_width": null,
            "border": null,
            "align_items": null,
            "bottom": null,
            "_model_module": "@jupyter-widgets/base",
            "top": null,
            "grid_column": null,
            "overflow_y": null,
            "overflow_x": null,
            "grid_auto_flow": null,
            "grid_area": null,
            "grid_template_columns": null,
            "flex": null,
            "_model_name": "LayoutModel",
            "justify_items": null,
            "grid_row": null,
            "max_height": null,
            "align_content": null,
            "visibility": null,
            "align_self": null,
            "height": null,
            "min_height": null,
            "padding": null,
            "grid_auto_rows": null,
            "grid_gap": null,
            "max_width": null,
            "order": null,
            "_view_module_version": "1.2.0",
            "grid_template_areas": null,
            "object_position": null,
            "object_fit": null,
            "grid_auto_columns": null,
            "margin": null,
            "display": null,
            "left": null
          }
        },
        "3747472eafc34a14bfe5ba8b93be022c": {
          "model_module": "@jupyter-widgets/controls",
          "model_name": "DescriptionStyleModel",
          "state": {
            "_view_name": "StyleView",
            "_model_name": "DescriptionStyleModel",
            "description_width": "",
            "_view_module": "@jupyter-widgets/base",
            "_model_module_version": "1.5.0",
            "_view_count": null,
            "_view_module_version": "1.2.0",
            "_model_module": "@jupyter-widgets/controls"
          }
        },
        "52f99e61287146e6958fabf3495b0cbe": {
          "model_module": "@jupyter-widgets/base",
          "model_name": "LayoutModel",
          "state": {
            "_view_name": "LayoutView",
            "grid_template_rows": null,
            "right": null,
            "justify_content": null,
            "_view_module": "@jupyter-widgets/base",
            "overflow": null,
            "_model_module_version": "1.2.0",
            "_view_count": null,
            "flex_flow": null,
            "width": null,
            "min_width": null,
            "border": null,
            "align_items": null,
            "bottom": null,
            "_model_module": "@jupyter-widgets/base",
            "top": null,
            "grid_column": null,
            "overflow_y": null,
            "overflow_x": null,
            "grid_auto_flow": null,
            "grid_area": null,
            "grid_template_columns": null,
            "flex": null,
            "_model_name": "LayoutModel",
            "justify_items": null,
            "grid_row": null,
            "max_height": null,
            "align_content": null,
            "visibility": null,
            "align_self": null,
            "height": null,
            "min_height": null,
            "padding": null,
            "grid_auto_rows": null,
            "grid_gap": null,
            "max_width": null,
            "order": null,
            "_view_module_version": "1.2.0",
            "grid_template_areas": null,
            "object_position": null,
            "object_fit": null,
            "grid_auto_columns": null,
            "margin": null,
            "display": null,
            "left": null
          }
        },
        "1a805732f8294593aed1e2b38ecb674c": {
          "model_module": "@jupyter-widgets/controls",
          "model_name": "HBoxModel",
          "state": {
            "_view_name": "HBoxView",
            "_dom_classes": [],
            "_model_name": "HBoxModel",
            "_view_module": "@jupyter-widgets/controls",
            "_model_module_version": "1.5.0",
            "_view_count": null,
            "_view_module_version": "1.5.0",
            "box_style": "",
            "layout": "IPY_MODEL_1a16d1fa43734666bf215baed62b9a3f",
            "_model_module": "@jupyter-widgets/controls",
            "children": [
              "IPY_MODEL_13509723c8b14656a81e38d04364145d",
              "IPY_MODEL_62df4eef4a4143ef9034067732992a66"
            ]
          }
        },
        "1a16d1fa43734666bf215baed62b9a3f": {
          "model_module": "@jupyter-widgets/base",
          "model_name": "LayoutModel",
          "state": {
            "_view_name": "LayoutView",
            "grid_template_rows": null,
            "right": null,
            "justify_content": null,
            "_view_module": "@jupyter-widgets/base",
            "overflow": null,
            "_model_module_version": "1.2.0",
            "_view_count": null,
            "flex_flow": null,
            "width": null,
            "min_width": null,
            "border": null,
            "align_items": null,
            "bottom": null,
            "_model_module": "@jupyter-widgets/base",
            "top": null,
            "grid_column": null,
            "overflow_y": null,
            "overflow_x": null,
            "grid_auto_flow": null,
            "grid_area": null,
            "grid_template_columns": null,
            "flex": null,
            "_model_name": "LayoutModel",
            "justify_items": null,
            "grid_row": null,
            "max_height": null,
            "align_content": null,
            "visibility": null,
            "align_self": null,
            "height": null,
            "min_height": null,
            "padding": null,
            "grid_auto_rows": null,
            "grid_gap": null,
            "max_width": null,
            "order": null,
            "_view_module_version": "1.2.0",
            "grid_template_areas": null,
            "object_position": null,
            "object_fit": null,
            "grid_auto_columns": null,
            "margin": null,
            "display": null,
            "left": null
          }
        },
        "13509723c8b14656a81e38d04364145d": {
          "model_module": "@jupyter-widgets/controls",
          "model_name": "FloatProgressModel",
          "state": {
            "_view_name": "ProgressView",
            "style": "IPY_MODEL_17f13e824a8b4201994a8597e17a8a6a",
            "_dom_classes": [],
            "description": "Downloading: 100%",
            "_model_name": "FloatProgressModel",
            "bar_style": "success",
            "max": 112,
            "_view_module": "@jupyter-widgets/controls",
            "_model_module_version": "1.5.0",
            "value": 112,
            "_view_count": null,
            "_view_module_version": "1.5.0",
            "orientation": "horizontal",
            "min": 0,
            "description_tooltip": null,
            "_model_module": "@jupyter-widgets/controls",
            "layout": "IPY_MODEL_0e6f91caee064d93a75f0143885e133e"
          }
        },
        "62df4eef4a4143ef9034067732992a66": {
          "model_module": "@jupyter-widgets/controls",
          "model_name": "HTMLModel",
          "state": {
            "_view_name": "HTMLView",
            "style": "IPY_MODEL_7a1483cd507e4216b966186d3a5e4a59",
            "_dom_classes": [],
            "description": "",
            "_model_name": "HTMLModel",
            "placeholder": "​",
            "_view_module": "@jupyter-widgets/controls",
            "_model_module_version": "1.5.0",
            "value": " 112/112 [00:00&lt;00:00, 238B/s]",
            "_view_count": null,
            "_view_module_version": "1.5.0",
            "description_tooltip": null,
            "_model_module": "@jupyter-widgets/controls",
            "layout": "IPY_MODEL_5a9eaf691fb245ac8c66f4bfee6cfdb0"
          }
        },
        "17f13e824a8b4201994a8597e17a8a6a": {
          "model_module": "@jupyter-widgets/controls",
          "model_name": "ProgressStyleModel",
          "state": {
            "_view_name": "StyleView",
            "_model_name": "ProgressStyleModel",
            "description_width": "initial",
            "_view_module": "@jupyter-widgets/base",
            "_model_module_version": "1.5.0",
            "_view_count": null,
            "_view_module_version": "1.2.0",
            "bar_color": null,
            "_model_module": "@jupyter-widgets/controls"
          }
        },
        "0e6f91caee064d93a75f0143885e133e": {
          "model_module": "@jupyter-widgets/base",
          "model_name": "LayoutModel",
          "state": {
            "_view_name": "LayoutView",
            "grid_template_rows": null,
            "right": null,
            "justify_content": null,
            "_view_module": "@jupyter-widgets/base",
            "overflow": null,
            "_model_module_version": "1.2.0",
            "_view_count": null,
            "flex_flow": null,
            "width": null,
            "min_width": null,
            "border": null,
            "align_items": null,
            "bottom": null,
            "_model_module": "@jupyter-widgets/base",
            "top": null,
            "grid_column": null,
            "overflow_y": null,
            "overflow_x": null,
            "grid_auto_flow": null,
            "grid_area": null,
            "grid_template_columns": null,
            "flex": null,
            "_model_name": "LayoutModel",
            "justify_items": null,
            "grid_row": null,
            "max_height": null,
            "align_content": null,
            "visibility": null,
            "align_self": null,
            "height": null,
            "min_height": null,
            "padding": null,
            "grid_auto_rows": null,
            "grid_gap": null,
            "max_width": null,
            "order": null,
            "_view_module_version": "1.2.0",
            "grid_template_areas": null,
            "object_position": null,
            "object_fit": null,
            "grid_auto_columns": null,
            "margin": null,
            "display": null,
            "left": null
          }
        },
        "7a1483cd507e4216b966186d3a5e4a59": {
          "model_module": "@jupyter-widgets/controls",
          "model_name": "DescriptionStyleModel",
          "state": {
            "_view_name": "StyleView",
            "_model_name": "DescriptionStyleModel",
            "description_width": "",
            "_view_module": "@jupyter-widgets/base",
            "_model_module_version": "1.5.0",
            "_view_count": null,
            "_view_module_version": "1.2.0",
            "_model_module": "@jupyter-widgets/controls"
          }
        },
        "5a9eaf691fb245ac8c66f4bfee6cfdb0": {
          "model_module": "@jupyter-widgets/base",
          "model_name": "LayoutModel",
          "state": {
            "_view_name": "LayoutView",
            "grid_template_rows": null,
            "right": null,
            "justify_content": null,
            "_view_module": "@jupyter-widgets/base",
            "overflow": null,
            "_model_module_version": "1.2.0",
            "_view_count": null,
            "flex_flow": null,
            "width": null,
            "min_width": null,
            "border": null,
            "align_items": null,
            "bottom": null,
            "_model_module": "@jupyter-widgets/base",
            "top": null,
            "grid_column": null,
            "overflow_y": null,
            "overflow_x": null,
            "grid_auto_flow": null,
            "grid_area": null,
            "grid_template_columns": null,
            "flex": null,
            "_model_name": "LayoutModel",
            "justify_items": null,
            "grid_row": null,
            "max_height": null,
            "align_content": null,
            "visibility": null,
            "align_self": null,
            "height": null,
            "min_height": null,
            "padding": null,
            "grid_auto_rows": null,
            "grid_gap": null,
            "max_width": null,
            "order": null,
            "_view_module_version": "1.2.0",
            "grid_template_areas": null,
            "object_position": null,
            "object_fit": null,
            "grid_auto_columns": null,
            "margin": null,
            "display": null,
            "left": null
          }
        },
        "eda58af432fe49d0adb6a5918310f5e3": {
          "model_module": "@jupyter-widgets/controls",
          "model_name": "HBoxModel",
          "state": {
            "_view_name": "HBoxView",
            "_dom_classes": [],
            "_model_name": "HBoxModel",
            "_view_module": "@jupyter-widgets/controls",
            "_model_module_version": "1.5.0",
            "_view_count": null,
            "_view_module_version": "1.5.0",
            "box_style": "",
            "layout": "IPY_MODEL_985ae5f625d44dc7be656eeca3e91b8f",
            "_model_module": "@jupyter-widgets/controls",
            "children": [
              "IPY_MODEL_3f71597a99c94f1b96ac99327fc1463b",
              "IPY_MODEL_e66a9c61f67c4860b85584b4909a8a6f"
            ]
          }
        },
        "985ae5f625d44dc7be656eeca3e91b8f": {
          "model_module": "@jupyter-widgets/base",
          "model_name": "LayoutModel",
          "state": {
            "_view_name": "LayoutView",
            "grid_template_rows": null,
            "right": null,
            "justify_content": null,
            "_view_module": "@jupyter-widgets/base",
            "overflow": null,
            "_model_module_version": "1.2.0",
            "_view_count": null,
            "flex_flow": null,
            "width": null,
            "min_width": null,
            "border": null,
            "align_items": null,
            "bottom": null,
            "_model_module": "@jupyter-widgets/base",
            "top": null,
            "grid_column": null,
            "overflow_y": null,
            "overflow_x": null,
            "grid_auto_flow": null,
            "grid_area": null,
            "grid_template_columns": null,
            "flex": null,
            "_model_name": "LayoutModel",
            "justify_items": null,
            "grid_row": null,
            "max_height": null,
            "align_content": null,
            "visibility": null,
            "align_self": null,
            "height": null,
            "min_height": null,
            "padding": null,
            "grid_auto_rows": null,
            "grid_gap": null,
            "max_width": null,
            "order": null,
            "_view_module_version": "1.2.0",
            "grid_template_areas": null,
            "object_position": null,
            "object_fit": null,
            "grid_auto_columns": null,
            "margin": null,
            "display": null,
            "left": null
          }
        },
        "3f71597a99c94f1b96ac99327fc1463b": {
          "model_module": "@jupyter-widgets/controls",
          "model_name": "FloatProgressModel",
          "state": {
            "_view_name": "ProgressView",
            "style": "IPY_MODEL_f20f9291d1ff481abd8a126562198054",
            "_dom_classes": [],
            "description": "Downloading: 100%",
            "_model_name": "FloatProgressModel",
            "bar_style": "success",
            "max": 376,
            "_view_module": "@jupyter-widgets/controls",
            "_model_module_version": "1.5.0",
            "value": 376,
            "_view_count": null,
            "_view_module_version": "1.5.0",
            "orientation": "horizontal",
            "min": 0,
            "description_tooltip": null,
            "_model_module": "@jupyter-widgets/controls",
            "layout": "IPY_MODEL_c38ac94310f449c1ad08834c48d25b05"
          }
        },
        "e66a9c61f67c4860b85584b4909a8a6f": {
          "model_module": "@jupyter-widgets/controls",
          "model_name": "HTMLModel",
          "state": {
            "_view_name": "HTMLView",
            "style": "IPY_MODEL_8512c25f7707493f893970291a4cc523",
            "_dom_classes": [],
            "description": "",
            "_model_name": "HTMLModel",
            "placeholder": "​",
            "_view_module": "@jupyter-widgets/controls",
            "_model_module_version": "1.5.0",
            "value": " 376/376 [00:00&lt;00:00, 2.70kB/s]",
            "_view_count": null,
            "_view_module_version": "1.5.0",
            "description_tooltip": null,
            "_model_module": "@jupyter-widgets/controls",
            "layout": "IPY_MODEL_84c85cfd74f8429b8c1517bc656d1d1e"
          }
        },
        "f20f9291d1ff481abd8a126562198054": {
          "model_module": "@jupyter-widgets/controls",
          "model_name": "ProgressStyleModel",
          "state": {
            "_view_name": "StyleView",
            "_model_name": "ProgressStyleModel",
            "description_width": "initial",
            "_view_module": "@jupyter-widgets/base",
            "_model_module_version": "1.5.0",
            "_view_count": null,
            "_view_module_version": "1.2.0",
            "bar_color": null,
            "_model_module": "@jupyter-widgets/controls"
          }
        },
        "c38ac94310f449c1ad08834c48d25b05": {
          "model_module": "@jupyter-widgets/base",
          "model_name": "LayoutModel",
          "state": {
            "_view_name": "LayoutView",
            "grid_template_rows": null,
            "right": null,
            "justify_content": null,
            "_view_module": "@jupyter-widgets/base",
            "overflow": null,
            "_model_module_version": "1.2.0",
            "_view_count": null,
            "flex_flow": null,
            "width": null,
            "min_width": null,
            "border": null,
            "align_items": null,
            "bottom": null,
            "_model_module": "@jupyter-widgets/base",
            "top": null,
            "grid_column": null,
            "overflow_y": null,
            "overflow_x": null,
            "grid_auto_flow": null,
            "grid_area": null,
            "grid_template_columns": null,
            "flex": null,
            "_model_name": "LayoutModel",
            "justify_items": null,
            "grid_row": null,
            "max_height": null,
            "align_content": null,
            "visibility": null,
            "align_self": null,
            "height": null,
            "min_height": null,
            "padding": null,
            "grid_auto_rows": null,
            "grid_gap": null,
            "max_width": null,
            "order": null,
            "_view_module_version": "1.2.0",
            "grid_template_areas": null,
            "object_position": null,
            "object_fit": null,
            "grid_auto_columns": null,
            "margin": null,
            "display": null,
            "left": null
          }
        },
        "8512c25f7707493f893970291a4cc523": {
          "model_module": "@jupyter-widgets/controls",
          "model_name": "DescriptionStyleModel",
          "state": {
            "_view_name": "StyleView",
            "_model_name": "DescriptionStyleModel",
            "description_width": "",
            "_view_module": "@jupyter-widgets/base",
            "_model_module_version": "1.5.0",
            "_view_count": null,
            "_view_module_version": "1.2.0",
            "_model_module": "@jupyter-widgets/controls"
          }
        },
        "84c85cfd74f8429b8c1517bc656d1d1e": {
          "model_module": "@jupyter-widgets/base",
          "model_name": "LayoutModel",
          "state": {
            "_view_name": "LayoutView",
            "grid_template_rows": null,
            "right": null,
            "justify_content": null,
            "_view_module": "@jupyter-widgets/base",
            "overflow": null,
            "_model_module_version": "1.2.0",
            "_view_count": null,
            "flex_flow": null,
            "width": null,
            "min_width": null,
            "border": null,
            "align_items": null,
            "bottom": null,
            "_model_module": "@jupyter-widgets/base",
            "top": null,
            "grid_column": null,
            "overflow_y": null,
            "overflow_x": null,
            "grid_auto_flow": null,
            "grid_area": null,
            "grid_template_columns": null,
            "flex": null,
            "_model_name": "LayoutModel",
            "justify_items": null,
            "grid_row": null,
            "max_height": null,
            "align_content": null,
            "visibility": null,
            "align_self": null,
            "height": null,
            "min_height": null,
            "padding": null,
            "grid_auto_rows": null,
            "grid_gap": null,
            "max_width": null,
            "order": null,
            "_view_module_version": "1.2.0",
            "grid_template_areas": null,
            "object_position": null,
            "object_fit": null,
            "grid_auto_columns": null,
            "margin": null,
            "display": null,
            "left": null
          }
        },
        "8bf4ad9bd29d44f8b04064fd905d5e44": {
          "model_module": "@jupyter-widgets/controls",
          "model_name": "HBoxModel",
          "state": {
            "_view_name": "HBoxView",
            "_dom_classes": [],
            "_model_name": "HBoxModel",
            "_view_module": "@jupyter-widgets/controls",
            "_model_module_version": "1.5.0",
            "_view_count": null,
            "_view_module_version": "1.5.0",
            "box_style": "",
            "layout": "IPY_MODEL_cd33d1d07d3e4628bee3a042178f8388",
            "_model_module": "@jupyter-widgets/controls",
            "children": [
              "IPY_MODEL_1970a420445e4a1db0259a03eb75e111",
              "IPY_MODEL_7eb6406d28f14e55b4a6c99a8633ad12"
            ]
          }
        },
        "cd33d1d07d3e4628bee3a042178f8388": {
          "model_module": "@jupyter-widgets/base",
          "model_name": "LayoutModel",
          "state": {
            "_view_name": "LayoutView",
            "grid_template_rows": null,
            "right": null,
            "justify_content": null,
            "_view_module": "@jupyter-widgets/base",
            "overflow": null,
            "_model_module_version": "1.2.0",
            "_view_count": null,
            "flex_flow": null,
            "width": null,
            "min_width": null,
            "border": null,
            "align_items": null,
            "bottom": null,
            "_model_module": "@jupyter-widgets/base",
            "top": null,
            "grid_column": null,
            "overflow_y": null,
            "overflow_x": null,
            "grid_auto_flow": null,
            "grid_area": null,
            "grid_template_columns": null,
            "flex": null,
            "_model_name": "LayoutModel",
            "justify_items": null,
            "grid_row": null,
            "max_height": null,
            "align_content": null,
            "visibility": null,
            "align_self": null,
            "height": null,
            "min_height": null,
            "padding": null,
            "grid_auto_rows": null,
            "grid_gap": null,
            "max_width": null,
            "order": null,
            "_view_module_version": "1.2.0",
            "grid_template_areas": null,
            "object_position": null,
            "object_fit": null,
            "grid_auto_columns": null,
            "margin": null,
            "display": null,
            "left": null
          }
        },
        "1970a420445e4a1db0259a03eb75e111": {
          "model_module": "@jupyter-widgets/controls",
          "model_name": "FloatProgressModel",
          "state": {
            "_view_name": "ProgressView",
            "style": "IPY_MODEL_40b817dfd75946428e50d464a6612ae3",
            "_dom_classes": [],
            "description": "Downloading: 100%",
            "_model_name": "FloatProgressModel",
            "bar_style": "success",
            "max": 654186400,
            "_view_module": "@jupyter-widgets/controls",
            "_model_module_version": "1.5.0",
            "value": 654186400,
            "_view_count": null,
            "_view_module_version": "1.5.0",
            "orientation": "horizontal",
            "min": 0,
            "description_tooltip": null,
            "_model_module": "@jupyter-widgets/controls",
            "layout": "IPY_MODEL_89a3d67dfaaf4965a97d1a408f6b0701"
          }
        },
        "7eb6406d28f14e55b4a6c99a8633ad12": {
          "model_module": "@jupyter-widgets/controls",
          "model_name": "HTMLModel",
          "state": {
            "_view_name": "HTMLView",
            "style": "IPY_MODEL_1f030d17809643b7a6505a71c3ab2f97",
            "_dom_classes": [],
            "description": "",
            "_model_name": "HTMLModel",
            "placeholder": "​",
            "_view_module": "@jupyter-widgets/controls",
            "_model_module_version": "1.5.0",
            "value": " 654M/654M [00:23&lt;00:00, 27.3MB/s]",
            "_view_count": null,
            "_view_module_version": "1.5.0",
            "description_tooltip": null,
            "_model_module": "@jupyter-widgets/controls",
            "layout": "IPY_MODEL_3ae1d584337f4faaba247c8002dea06f"
          }
        },
        "40b817dfd75946428e50d464a6612ae3": {
          "model_module": "@jupyter-widgets/controls",
          "model_name": "ProgressStyleModel",
          "state": {
            "_view_name": "StyleView",
            "_model_name": "ProgressStyleModel",
            "description_width": "initial",
            "_view_module": "@jupyter-widgets/base",
            "_model_module_version": "1.5.0",
            "_view_count": null,
            "_view_module_version": "1.2.0",
            "bar_color": null,
            "_model_module": "@jupyter-widgets/controls"
          }
        },
        "89a3d67dfaaf4965a97d1a408f6b0701": {
          "model_module": "@jupyter-widgets/base",
          "model_name": "LayoutModel",
          "state": {
            "_view_name": "LayoutView",
            "grid_template_rows": null,
            "right": null,
            "justify_content": null,
            "_view_module": "@jupyter-widgets/base",
            "overflow": null,
            "_model_module_version": "1.2.0",
            "_view_count": null,
            "flex_flow": null,
            "width": null,
            "min_width": null,
            "border": null,
            "align_items": null,
            "bottom": null,
            "_model_module": "@jupyter-widgets/base",
            "top": null,
            "grid_column": null,
            "overflow_y": null,
            "overflow_x": null,
            "grid_auto_flow": null,
            "grid_area": null,
            "grid_template_columns": null,
            "flex": null,
            "_model_name": "LayoutModel",
            "justify_items": null,
            "grid_row": null,
            "max_height": null,
            "align_content": null,
            "visibility": null,
            "align_self": null,
            "height": null,
            "min_height": null,
            "padding": null,
            "grid_auto_rows": null,
            "grid_gap": null,
            "max_width": null,
            "order": null,
            "_view_module_version": "1.2.0",
            "grid_template_areas": null,
            "object_position": null,
            "object_fit": null,
            "grid_auto_columns": null,
            "margin": null,
            "display": null,
            "left": null
          }
        },
        "1f030d17809643b7a6505a71c3ab2f97": {
          "model_module": "@jupyter-widgets/controls",
          "model_name": "DescriptionStyleModel",
          "state": {
            "_view_name": "StyleView",
            "_model_name": "DescriptionStyleModel",
            "description_width": "",
            "_view_module": "@jupyter-widgets/base",
            "_model_module_version": "1.5.0",
            "_view_count": null,
            "_view_module_version": "1.2.0",
            "_model_module": "@jupyter-widgets/controls"
          }
        },
        "3ae1d584337f4faaba247c8002dea06f": {
          "model_module": "@jupyter-widgets/base",
          "model_name": "LayoutModel",
          "state": {
            "_view_name": "LayoutView",
            "grid_template_rows": null,
            "right": null,
            "justify_content": null,
            "_view_module": "@jupyter-widgets/base",
            "overflow": null,
            "_model_module_version": "1.2.0",
            "_view_count": null,
            "flex_flow": null,
            "width": null,
            "min_width": null,
            "border": null,
            "align_items": null,
            "bottom": null,
            "_model_module": "@jupyter-widgets/base",
            "top": null,
            "grid_column": null,
            "overflow_y": null,
            "overflow_x": null,
            "grid_auto_flow": null,
            "grid_area": null,
            "grid_template_columns": null,
            "flex": null,
            "_model_name": "LayoutModel",
            "justify_items": null,
            "grid_row": null,
            "max_height": null,
            "align_content": null,
            "visibility": null,
            "align_self": null,
            "height": null,
            "min_height": null,
            "padding": null,
            "grid_auto_rows": null,
            "grid_gap": null,
            "max_width": null,
            "order": null,
            "_view_module_version": "1.2.0",
            "grid_template_areas": null,
            "object_position": null,
            "object_fit": null,
            "grid_auto_columns": null,
            "margin": null,
            "display": null,
            "left": null
          }
        },
        "2176b3c5e35946a29e3c0f66234784bf": {
          "model_module": "@jupyter-widgets/controls",
          "model_name": "HBoxModel",
          "state": {
            "_view_name": "HBoxView",
            "_dom_classes": [],
            "_model_name": "HBoxModel",
            "_view_module": "@jupyter-widgets/controls",
            "_model_module_version": "1.5.0",
            "_view_count": null,
            "_view_module_version": "1.5.0",
            "box_style": "",
            "layout": "IPY_MODEL_e2b10918a385453dbc57cdfa1f2f22f7",
            "_model_module": "@jupyter-widgets/controls",
            "children": [
              "IPY_MODEL_197165df310a4eaa951595f72a28732a",
              "IPY_MODEL_318d934dae30460c8c36eecd45d503d3"
            ]
          }
        },
        "e2b10918a385453dbc57cdfa1f2f22f7": {
          "model_module": "@jupyter-widgets/base",
          "model_name": "LayoutModel",
          "state": {
            "_view_name": "LayoutView",
            "grid_template_rows": null,
            "right": null,
            "justify_content": null,
            "_view_module": "@jupyter-widgets/base",
            "overflow": null,
            "_model_module_version": "1.2.0",
            "_view_count": null,
            "flex_flow": null,
            "width": null,
            "min_width": null,
            "border": null,
            "align_items": null,
            "bottom": null,
            "_model_module": "@jupyter-widgets/base",
            "top": null,
            "grid_column": null,
            "overflow_y": null,
            "overflow_x": null,
            "grid_auto_flow": null,
            "grid_area": null,
            "grid_template_columns": null,
            "flex": null,
            "_model_name": "LayoutModel",
            "justify_items": null,
            "grid_row": null,
            "max_height": null,
            "align_content": null,
            "visibility": null,
            "align_self": null,
            "height": null,
            "min_height": null,
            "padding": null,
            "grid_auto_rows": null,
            "grid_gap": null,
            "max_width": null,
            "order": null,
            "_view_module_version": "1.2.0",
            "grid_template_areas": null,
            "object_position": null,
            "object_fit": null,
            "grid_auto_columns": null,
            "margin": null,
            "display": null,
            "left": null
          }
        },
        "197165df310a4eaa951595f72a28732a": {
          "model_module": "@jupyter-widgets/controls",
          "model_name": "FloatProgressModel",
          "state": {
            "_view_name": "ProgressView",
            "style": "IPY_MODEL_dade4cd5dec9450296eddf5cf62a31f6",
            "_dom_classes": [],
            "description": "100%",
            "_model_name": "FloatProgressModel",
            "bar_style": "success",
            "max": 2,
            "_view_module": "@jupyter-widgets/controls",
            "_model_module_version": "1.5.0",
            "value": 2,
            "_view_count": null,
            "_view_module_version": "1.5.0",
            "orientation": "horizontal",
            "min": 0,
            "description_tooltip": null,
            "_model_module": "@jupyter-widgets/controls",
            "layout": "IPY_MODEL_79692eae0112486f9b61801057ab598c"
          }
        },
        "318d934dae30460c8c36eecd45d503d3": {
          "model_module": "@jupyter-widgets/controls",
          "model_name": "HTMLModel",
          "state": {
            "_view_name": "HTMLView",
            "style": "IPY_MODEL_546867077d5d4b9584f9b301ed1a9e3c",
            "_dom_classes": [],
            "description": "",
            "_model_name": "HTMLModel",
            "placeholder": "​",
            "_view_module": "@jupyter-widgets/controls",
            "_model_module_version": "1.5.0",
            "value": " 2/2 [29:13&lt;00:00, 876.54s/it]",
            "_view_count": null,
            "_view_module_version": "1.5.0",
            "description_tooltip": null,
            "_model_module": "@jupyter-widgets/controls",
            "layout": "IPY_MODEL_d13875efb3d943b1b426dbbb82e1f916"
          }
        },
        "dade4cd5dec9450296eddf5cf62a31f6": {
          "model_module": "@jupyter-widgets/controls",
          "model_name": "ProgressStyleModel",
          "state": {
            "_view_name": "StyleView",
            "_model_name": "ProgressStyleModel",
            "description_width": "initial",
            "_view_module": "@jupyter-widgets/base",
            "_model_module_version": "1.5.0",
            "_view_count": null,
            "_view_module_version": "1.2.0",
            "bar_color": null,
            "_model_module": "@jupyter-widgets/controls"
          }
        },
        "79692eae0112486f9b61801057ab598c": {
          "model_module": "@jupyter-widgets/base",
          "model_name": "LayoutModel",
          "state": {
            "_view_name": "LayoutView",
            "grid_template_rows": null,
            "right": null,
            "justify_content": null,
            "_view_module": "@jupyter-widgets/base",
            "overflow": null,
            "_model_module_version": "1.2.0",
            "_view_count": null,
            "flex_flow": null,
            "width": null,
            "min_width": null,
            "border": null,
            "align_items": null,
            "bottom": null,
            "_model_module": "@jupyter-widgets/base",
            "top": null,
            "grid_column": null,
            "overflow_y": null,
            "overflow_x": null,
            "grid_auto_flow": null,
            "grid_area": null,
            "grid_template_columns": null,
            "flex": null,
            "_model_name": "LayoutModel",
            "justify_items": null,
            "grid_row": null,
            "max_height": null,
            "align_content": null,
            "visibility": null,
            "align_self": null,
            "height": null,
            "min_height": null,
            "padding": null,
            "grid_auto_rows": null,
            "grid_gap": null,
            "max_width": null,
            "order": null,
            "_view_module_version": "1.2.0",
            "grid_template_areas": null,
            "object_position": null,
            "object_fit": null,
            "grid_auto_columns": null,
            "margin": null,
            "display": null,
            "left": null
          }
        },
        "546867077d5d4b9584f9b301ed1a9e3c": {
          "model_module": "@jupyter-widgets/controls",
          "model_name": "DescriptionStyleModel",
          "state": {
            "_view_name": "StyleView",
            "_model_name": "DescriptionStyleModel",
            "description_width": "",
            "_view_module": "@jupyter-widgets/base",
            "_model_module_version": "1.5.0",
            "_view_count": null,
            "_view_module_version": "1.2.0",
            "_model_module": "@jupyter-widgets/controls"
          }
        },
        "d13875efb3d943b1b426dbbb82e1f916": {
          "model_module": "@jupyter-widgets/base",
          "model_name": "LayoutModel",
          "state": {
            "_view_name": "LayoutView",
            "grid_template_rows": null,
            "right": null,
            "justify_content": null,
            "_view_module": "@jupyter-widgets/base",
            "overflow": null,
            "_model_module_version": "1.2.0",
            "_view_count": null,
            "flex_flow": null,
            "width": null,
            "min_width": null,
            "border": null,
            "align_items": null,
            "bottom": null,
            "_model_module": "@jupyter-widgets/base",
            "top": null,
            "grid_column": null,
            "overflow_y": null,
            "overflow_x": null,
            "grid_auto_flow": null,
            "grid_area": null,
            "grid_template_columns": null,
            "flex": null,
            "_model_name": "LayoutModel",
            "justify_items": null,
            "grid_row": null,
            "max_height": null,
            "align_content": null,
            "visibility": null,
            "align_self": null,
            "height": null,
            "min_height": null,
            "padding": null,
            "grid_auto_rows": null,
            "grid_gap": null,
            "max_width": null,
            "order": null,
            "_view_module_version": "1.2.0",
            "grid_template_areas": null,
            "object_position": null,
            "object_fit": null,
            "grid_auto_columns": null,
            "margin": null,
            "display": null,
            "left": null
          }
        },
        "6cc4d9f4769a4f7ab1b57f6633a5a3bd": {
          "model_module": "@jupyter-widgets/controls",
          "model_name": "HBoxModel",
          "state": {
            "_view_name": "HBoxView",
            "_dom_classes": [],
            "_model_name": "HBoxModel",
            "_view_module": "@jupyter-widgets/controls",
            "_model_module_version": "1.5.0",
            "_view_count": null,
            "_view_module_version": "1.5.0",
            "box_style": "",
            "layout": "IPY_MODEL_1861f59ddf444203bf85800c0ed432a9",
            "_model_module": "@jupyter-widgets/controls",
            "children": [
              "IPY_MODEL_b90d29644b2b4ff2937ff46cf627f866",
              "IPY_MODEL_8946aa9064d240b4aa95b29371599f33"
            ]
          }
        },
        "1861f59ddf444203bf85800c0ed432a9": {
          "model_module": "@jupyter-widgets/base",
          "model_name": "LayoutModel",
          "state": {
            "_view_name": "LayoutView",
            "grid_template_rows": null,
            "right": null,
            "justify_content": null,
            "_view_module": "@jupyter-widgets/base",
            "overflow": null,
            "_model_module_version": "1.2.0",
            "_view_count": null,
            "flex_flow": null,
            "width": null,
            "min_width": null,
            "border": null,
            "align_items": null,
            "bottom": null,
            "_model_module": "@jupyter-widgets/base",
            "top": null,
            "grid_column": null,
            "overflow_y": null,
            "overflow_x": null,
            "grid_auto_flow": null,
            "grid_area": null,
            "grid_template_columns": null,
            "flex": null,
            "_model_name": "LayoutModel",
            "justify_items": null,
            "grid_row": null,
            "max_height": null,
            "align_content": null,
            "visibility": null,
            "align_self": null,
            "height": null,
            "min_height": null,
            "padding": null,
            "grid_auto_rows": null,
            "grid_gap": null,
            "max_width": null,
            "order": null,
            "_view_module_version": "1.2.0",
            "grid_template_areas": null,
            "object_position": null,
            "object_fit": null,
            "grid_auto_columns": null,
            "margin": null,
            "display": null,
            "left": null
          }
        },
        "b90d29644b2b4ff2937ff46cf627f866": {
          "model_module": "@jupyter-widgets/controls",
          "model_name": "FloatProgressModel",
          "state": {
            "_view_name": "ProgressView",
            "style": "IPY_MODEL_23cf5bf4b56248f98ceb84d97266f718",
            "_dom_classes": [],
            "description": "100%",
            "_model_name": "FloatProgressModel",
            "bar_style": "success",
            "max": 474,
            "_view_module": "@jupyter-widgets/controls",
            "_model_module_version": "1.5.0",
            "value": 474,
            "_view_count": null,
            "_view_module_version": "1.5.0",
            "orientation": "horizontal",
            "min": 0,
            "description_tooltip": null,
            "_model_module": "@jupyter-widgets/controls",
            "layout": "IPY_MODEL_2a29180306bb4aa993cbed7fe8ecf129"
          }
        },
        "8946aa9064d240b4aa95b29371599f33": {
          "model_module": "@jupyter-widgets/controls",
          "model_name": "HTMLModel",
          "state": {
            "_view_name": "HTMLView",
            "style": "IPY_MODEL_9f3de2ca818d4bce9283532da0070277",
            "_dom_classes": [],
            "description": "",
            "_model_name": "HTMLModel",
            "placeholder": "​",
            "_view_module": "@jupyter-widgets/controls",
            "_model_module_version": "1.5.0",
            "value": " 474/474 [00:57&lt;00:00,  8.30it/s]",
            "_view_count": null,
            "_view_module_version": "1.5.0",
            "description_tooltip": null,
            "_model_module": "@jupyter-widgets/controls",
            "layout": "IPY_MODEL_32778a431b6541f2ba13a1937d7b6437"
          }
        },
        "23cf5bf4b56248f98ceb84d97266f718": {
          "model_module": "@jupyter-widgets/controls",
          "model_name": "ProgressStyleModel",
          "state": {
            "_view_name": "StyleView",
            "_model_name": "ProgressStyleModel",
            "description_width": "initial",
            "_view_module": "@jupyter-widgets/base",
            "_model_module_version": "1.5.0",
            "_view_count": null,
            "_view_module_version": "1.2.0",
            "bar_color": null,
            "_model_module": "@jupyter-widgets/controls"
          }
        },
        "2a29180306bb4aa993cbed7fe8ecf129": {
          "model_module": "@jupyter-widgets/base",
          "model_name": "LayoutModel",
          "state": {
            "_view_name": "LayoutView",
            "grid_template_rows": null,
            "right": null,
            "justify_content": null,
            "_view_module": "@jupyter-widgets/base",
            "overflow": null,
            "_model_module_version": "1.2.0",
            "_view_count": null,
            "flex_flow": null,
            "width": null,
            "min_width": null,
            "border": null,
            "align_items": null,
            "bottom": null,
            "_model_module": "@jupyter-widgets/base",
            "top": null,
            "grid_column": null,
            "overflow_y": null,
            "overflow_x": null,
            "grid_auto_flow": null,
            "grid_area": null,
            "grid_template_columns": null,
            "flex": null,
            "_model_name": "LayoutModel",
            "justify_items": null,
            "grid_row": null,
            "max_height": null,
            "align_content": null,
            "visibility": null,
            "align_self": null,
            "height": null,
            "min_height": null,
            "padding": null,
            "grid_auto_rows": null,
            "grid_gap": null,
            "max_width": null,
            "order": null,
            "_view_module_version": "1.2.0",
            "grid_template_areas": null,
            "object_position": null,
            "object_fit": null,
            "grid_auto_columns": null,
            "margin": null,
            "display": null,
            "left": null
          }
        },
        "9f3de2ca818d4bce9283532da0070277": {
          "model_module": "@jupyter-widgets/controls",
          "model_name": "DescriptionStyleModel",
          "state": {
            "_view_name": "StyleView",
            "_model_name": "DescriptionStyleModel",
            "description_width": "",
            "_view_module": "@jupyter-widgets/base",
            "_model_module_version": "1.5.0",
            "_view_count": null,
            "_view_module_version": "1.2.0",
            "_model_module": "@jupyter-widgets/controls"
          }
        },
        "32778a431b6541f2ba13a1937d7b6437": {
          "model_module": "@jupyter-widgets/base",
          "model_name": "LayoutModel",
          "state": {
            "_view_name": "LayoutView",
            "grid_template_rows": null,
            "right": null,
            "justify_content": null,
            "_view_module": "@jupyter-widgets/base",
            "overflow": null,
            "_model_module_version": "1.2.0",
            "_view_count": null,
            "flex_flow": null,
            "width": null,
            "min_width": null,
            "border": null,
            "align_items": null,
            "bottom": null,
            "_model_module": "@jupyter-widgets/base",
            "top": null,
            "grid_column": null,
            "overflow_y": null,
            "overflow_x": null,
            "grid_auto_flow": null,
            "grid_area": null,
            "grid_template_columns": null,
            "flex": null,
            "_model_name": "LayoutModel",
            "justify_items": null,
            "grid_row": null,
            "max_height": null,
            "align_content": null,
            "visibility": null,
            "align_self": null,
            "height": null,
            "min_height": null,
            "padding": null,
            "grid_auto_rows": null,
            "grid_gap": null,
            "max_width": null,
            "order": null,
            "_view_module_version": "1.2.0",
            "grid_template_areas": null,
            "object_position": null,
            "object_fit": null,
            "grid_auto_columns": null,
            "margin": null,
            "display": null,
            "left": null
          }
        }
      }
    },
    "accelerator": "GPU"
  },
  "cells": [
    {
      "cell_type": "markdown",
      "metadata": {
        "id": "view-in-github",
        "colab_type": "text"
      },
      "source": [
        "<a href=\"https://colab.research.google.com/github/BassemMagdi0007/Sentiment-analysis/blob/main/Models/%20Sentiment_classification.ipynb\" target=\"_parent\"><img src=\"https://colab.research.google.com/assets/colab-badge.svg\" alt=\"Open In Colab\"/></a>"
      ]
    },
    {
      "cell_type": "markdown",
      "metadata": {
        "id": "2yxYwcRPd4pg"
      },
      "source": [
        "##cleaning"
      ]
    },
    {
      "cell_type": "code",
      "metadata": {
        "id": "gCCkjeyNd4ph"
      },
      "source": [
        "!pip install pyarabic"
      ],
      "execution_count": null,
      "outputs": []
    },
    {
      "cell_type": "code",
      "metadata": {
        "colab": {
          "base_uri": "https://localhost:8080/"
        },
        "id": "W9E4Fmrp5BNa",
        "outputId": "3ec1e079-39cc-4eeb-9a45-e840e8cdff61"
      },
      "source": [
        "!pip install dtale"
      ],
      "execution_count": null,
      "outputs": [
        {
          "output_type": "stream",
          "text": [
            "Installing collected packages: dash-colorscales, squarify, brotli, Flask-Compress, plotly, dash-renderer, dash-core-components, dash-html-components, dash-table, dash, dash-bootstrap-components, lz4, dash-daq, kaleido, ppscore, strsimpy, flask-ngrok, dtale\n",
            "  Found existing installation: plotly 4.4.1\n",
            "    Uninstalling plotly-4.4.1:\n",
            "      Successfully uninstalled plotly-4.4.1\n",
            "Successfully installed Flask-Compress-1.9.0 brotli-1.0.9 dash-1.20.0 dash-bootstrap-components-0.12.2 dash-colorscales-0.0.4 dash-core-components-1.16.0 dash-daq-0.5.0 dash-html-components-1.1.3 dash-renderer-1.9.1 dash-table-4.11.3 dtale-1.46.0 flask-ngrok-0.0.25 kaleido-0.2.1 lz4-3.1.3 plotly-4.14.3 ppscore-1.2.0 squarify-0.4.3 strsimpy-0.2.0\n"
          ],
          "name": "stdout"
        }
      ]
    },
    {
      "cell_type": "code",
      "metadata": {
        "id": "M1QMnYNc5LqG"
      },
      "source": [
        "import dtale\n",
        "import dtale.app as dtale_app\n",
        "\n",
        "dtale_app.USE_COLAB = True"
      ],
      "execution_count": null,
      "outputs": []
    },
    {
      "cell_type": "code",
      "metadata": {
        "id": "JwucqwePgAeU"
      },
      "source": [
        "!git clone https://github.com/iabufarha/ArSarcasm.git"
      ],
      "execution_count": null,
      "outputs": []
    },
    {
      "cell_type": "code",
      "metadata": {
        "colab": {
          "base_uri": "https://localhost:8080/"
        },
        "id": "VgDAchLH5Yvk",
        "outputId": "536b309a-c16c-4c67-ce71-097a4785f088"
      },
      "source": [
        "!unrar e '/content/sentiment paper with DataSet.rar' "
      ],
      "execution_count": null,
      "outputs": [
        {
          "output_type": "stream",
          "text": [
            "\n",
            "UNRAR 5.50 freeware      Copyright (c) 1993-2017 Alexander Roshal\n",
            "\n",
            "\n",
            "Extracting from /content/sentiment paper with DataSet.rar\n",
            "\n",
            "Extracting  40000-Egyptian-tweets.xlsx                                   \b\b\b\b 66%\b\b\b\b\b  OK \n",
            "Extracting  Deep learning approaches for Arabic sentiment analysis.pdf     \b\b\b\b 99%\b\b\b\b\b  OK \n",
            "All OK\n"
          ],
          "name": "stdout"
        }
      ]
    },
    {
      "cell_type": "code",
      "metadata": {
        "id": "cxEtwCmGd4pi"
      },
      "source": [
        "import json\n",
        "import pandas as pd\n",
        "import html\n",
        "import logging\n",
        "import re\n",
        "import pyarabic.araby as araby"
      ],
      "execution_count": null,
      "outputs": []
    },
    {
      "cell_type": "code",
      "metadata": {
        "id": "0UMw2Lna2G-b"
      },
      "source": [
        "train_sarcasm = pd.read_csv(\"/content/ArSarcasm/dataset/ArSarcasm_train.csv\")\n",
        "test_sarcasm = pd.read_csv(\"/content/ArSarcasm/dataset/ArSarcasm_test.csv\")\n",
        "\n",
        "sarcasm_df = pd.concat([train_sarcasm[['tweet','original_sentiment']],test_sarcasm[['tweet','original_sentiment']]],ignore_index=True)\n",
        "sarcasm_df.rename(columns={\"tweet\":\"text\",\"original_sentiment\":\"label\"},inplace=True)"
      ],
      "execution_count": null,
      "outputs": []
    },
    {
      "cell_type": "code",
      "metadata": {
        "id": "UvAkrSpf6FH9"
      },
      "source": [
        "mazajk_df = pd.read_excel(\"/content/40000-Egyptian-tweets.xlsx\")\n",
        "mazajk_df.columns = ['text','label']"
      ],
      "execution_count": null,
      "outputs": []
    },
    {
      "cell_type": "code",
      "metadata": {
        "id": "BcBxvhkbd4pj"
      },
      "source": [
        "url_regexes = [\n",
        "    r\"(http(s)?:\\/\\/.)?(www\\.)?[-a-zA-Z0-9@:%._\\+~#=]{2,256}\\.[a-z]{2,6}\\b([-a-zA-Z0-9@:%_\\+.~#?&//=]*)\",\n",
        "    r\"@(https?|ftp)://(-\\.)?([^\\s/?\\.#-]+\\.?)+(/[^\\s]*)?$@iS\",\n",
        "    r\"http[s]?://[a-zA-Z0-9_\\-./~\\?=%&]+\",\n",
        "    r\"www[a-zA-Z0-9_\\-?=%&/.~]+\",\n",
        "    r\"[a-zA-Z]+\\.com\",\n",
        "    r\"(?=http)[^\\s]+\",\n",
        "    r\"(?=www)[^\\s]+\",\n",
        "    r\"://\",\n",
        "]\n",
        "\n",
        "user_mention_regex = r\"@[\\w\\d]+\"\n",
        "email_regexes = [r\"[\\w-]+@([\\w-]+\\.)+[\\w-]+\", r\"\\S+@\\S+\"]\n",
        "redundant_punct_pattern = (\n",
        "    r\"([!\\\"#\\$%\\'\\(\\)\\*\\+,\\.:;\\-<=·>?@\\[\\\\\\]\\^_ـ`{\\|}~—٪’،؟`୍“؛”ۚ【»؛\\s+«–…‘]{2,})\"\n",
        ")\n",
        "regex_tatweel = r\"(\\D)\\1{2,}\"\n",
        "rejected_chars_regex = r\"[^0-9\\a-zA-Z\\[\\]!\\\"#\\$%\\'\\(\\)\\*\\+,\\.:;\\-<=·>?@\\[\\\\\\]\\^_ـ`{\\|}~—٪’،؟`୍“؛”ۚ»؛\\s+«–…‘]\"\n",
        "\n",
        "regex_url_step1 = r\"(?=http)[^\\s]+\"\n",
        "regex_url_step2 = r\"(?=www)[^\\s]+\"\n",
        "regex_url = r\"(http(s)?:\\/\\/.)?(www\\.)?[-a-zA-Z0-9@:%._\\+~#=]{2,256}\\.[a-z]{2,6}\\b([-a-zA-Z0-9@:%_\\+.~#?&//=]*)\"\n",
        "regex_mention = r\"@[\\w\\d]+\"\n",
        "regex_email = r\"\\S+@\\S+\"\n",
        "\n",
        "chars_regex = r\"0-9\\u0621-\\u063A\\u0640-\\u066C\\u0671-\\u0674a-zA-Z\\[\\]!\\\"#\\$%\\'\\(\\)\\*\\+,\\.:;\\-<=·>?@\\[\\\\\\]\\^_ـ`{\\|}~—٪’،؟`୍“؛”ۚ»؛\\s+«–…‘\"\n",
        "\n",
        "white_spaced_double_quotation_regex = r'\\\"\\s+([^\"]+)\\s+\\\"'\n",
        "white_spaced_single_quotation_regex = r\"\\'\\s+([^']+)\\s+\\'\"\n",
        "white_spaced_back_quotation_regex = r\"\\`\\s+([^`]+)\\s+\\`\"\n",
        "white_spaced_em_dash = r\"\\—\\s+([^—]+)\\s+\\—\"\n",
        "\n",
        "left_spaced_chars = r\" ([\\]!#\\$%\\),\\.:;\\?}٪’،؟”؛…»·])\"\n",
        "right_spaced_chars = r\"([\\[\\(\\{“«‘*\\~]) \"\n",
        "left_and_right_spaced_chars = r\" ([\\+\\-\\<\\=\\>\\@\\\\\\^\\_\\|\\–]) \"\n",
        "replace_urls_emails_mentions=True\n",
        "strip_tashkeel=True\n",
        "strip_tatweel=True\n",
        "insert_white_spaces=True\n",
        "remove_elongation=True\n",
        "remove_html_markup=True\n",
        "\n",
        "\n",
        "def preprocess(text):\n",
        "    \"\"\"\n",
        "    Preprocess takes an input text line an applies the same preprocessing used in AraBERT\n",
        "                        pretraining\n",
        "    Args:\n",
        "        text (:obj:`str`): inout text string\n",
        "    Returns:\n",
        "        string: A preprocessed string depending on which model was selected\n",
        "    \"\"\"\n",
        "\n",
        "\n",
        "    text = str(text)\n",
        "    text = html.unescape(text)\n",
        "    if strip_tashkeel:\n",
        "        text = araby.strip_tashkeel(text)\n",
        "    if strip_tatweel:\n",
        "        text = araby.strip_tatweel(text)\n",
        "\n",
        "    if replace_urls_emails_mentions:\n",
        "        # replace all possible URLs\n",
        "        for reg in url_regexes:\n",
        "            text = re.sub(reg, \" [رابط] \", text)\n",
        "        # REplace Emails with [بريد]\n",
        "        for reg in email_regexes:\n",
        "            text = re.sub(reg, \" [بريد] \", text)\n",
        "        # replace mentions with [مستخدم]\n",
        "        text = re.sub(user_mention_regex, \" [مستخدم] \", text)        \n",
        "\n",
        "    if remove_html_markup:\n",
        "        # remove html line breaks\n",
        "        text = re.sub(\"<br />\", \" \", text)\n",
        "        # remove html markup\n",
        "        text = re.sub(\"</?[^>]+>\", \" \", text)\n",
        "\n",
        "    # remove repeated characters >2\n",
        "    if remove_elongation:\n",
        "        text = _remove_elongation(text)\n",
        "\n",
        "    # insert whitespace before and after all non Arabic digits or English Digits and Alphabet and the 2 brackets\n",
        "    if insert_white_spaces:\n",
        "        text = re.sub(\n",
        "            \"([^0-9\\u0621-\\u063A\\u0641-\\u064A\\u0660-\\u0669a-zA-Z\\[\\]])\",\n",
        "            r\" \\1 \",\n",
        "            text,\n",
        "        )\n",
        "\n",
        "        # insert whitespace between words and numbers or numbers and words\n",
        "        text = re.sub(\n",
        "            \"(\\d+)([\\u0621-\\u063A\\u0641-\\u064A\\u0660-\\u066C]+)\", r\" \\1 \\2 \", text\n",
        "        )\n",
        "        text = re.sub(\n",
        "            \"([\\u0621-\\u063A\\u0641-\\u064A\\u0660-\\u066C]+)(\\d+)\", r\" \\1 \\2 \", text\n",
        "        )\n",
        "\n",
        "\n",
        "    # text = re.sub(rejected_chars_regex, \" \", text)\n",
        "\n",
        "    # remove extra spaces\n",
        "    text = \" \".join(text.replace(\"\\uFE0F\", \"\").split())\n",
        "\n",
        "    # ALl the other models dont require Farasa Segmentation\n",
        "    text = re.sub(r\"[a-zA-Z]+\", \" \",text)\n",
        "    text = re.sub(\"\\d+\",\"\",text)\n",
        "    text = re.sub(\"[┊┊•°°•´¸•´¨¸•¨¸•]\",\" \",text)\n",
        "    text = re.sub(\"[ŁÀÁÂÃÄÅÆÇÈÉÊËÌÍÎÏÐÑÒÓÔÕÖØÙÚÛÜÝÞßïîíìëêéèçæåäãâáàðñòóôõöøùúûüýþÿďĎčČċĊĉĈćĆąĄăĂāĀĐđĒēĔĕĖėĘęĚěĜĝĞğįĭĬīĪĩĨħĦĥĤģĢġĠİıĲĳĴĵĶķĸĹĺĻļĽľĿŏŎōŌŋŊŉňņŅńŃłŁŀŐőŒœŔŕŖŗŘřŚśŜŝŞşůŮŭŬūŪũŨŧŦťŤţšŠŰűŲųŴŵŶŷŸŹźŻżŽžſ]\",\" \", text)\n",
        "    text = re.sub(r'[[\\]]+', \" \", text)\n",
        "\n",
        "    return text\n",
        "\n",
        "\n",
        "\n",
        "def _remove_elongation(text):\n",
        "    \"\"\"\n",
        "    :param text:  the input text to remove elongation\n",
        "    :return: delongated text\n",
        "    \"\"\"\n",
        "    # loop over the number of times the regex matched the text\n",
        "    for index_ in range(len(re.findall(regex_tatweel, text))):\n",
        "        elongation = re.search(regex_tatweel, text)\n",
        "        if elongation:\n",
        "            elongation_pattern = elongation.group()\n",
        "            elongation_replacement = elongation_pattern[0]\n",
        "            elongation_pattern = re.escape(elongation_pattern)\n",
        "            text = re.sub(\n",
        "                elongation_pattern, elongation_replacement, text, flags=re.MULTILINE\n",
        "            )\n",
        "        else:\n",
        "            break\n",
        "    return text\n",
        "\n",
        "def _remove_redundant_punct(text):\n",
        "    text_ = text\n",
        "    result = re.search(redundant_punct_pattern, text)\n",
        "    dif = 0\n",
        "    while result:\n",
        "        sub = result.group()\n",
        "        sub = sorted(set(sub), key=sub.index)\n",
        "        sub = \" \" + \"\".join(list(sub)) + \" \"\n",
        "        text = \"\".join(\n",
        "            (text[: result.span()[0] + dif], sub, text[result.span()[1] + dif :])\n",
        "        )\n",
        "        text_ = \"\".join(\n",
        "            (text_[: result.span()[0]], text_[result.span()[1] :])\n",
        "        ).strip()\n",
        "        dif = abs(len(text) - len(text_))\n",
        "        result = re.search(redundant_punct_pattern, text_)\n",
        "    text = re.sub(r\"\\s+\", \" \", text)\n",
        "    return text.strip()"
      ],
      "execution_count": null,
      "outputs": []
    },
    {
      "cell_type": "code",
      "metadata": {
        "id": "nipws1UlB3A_"
      },
      "source": [
        "# map = {\n",
        "#   '(:' : '🙂',\n",
        "#   ':)' : '🙂',\n",
        "#   ':-)': '🙂',\n",
        "#   '=)' : '🙂',\n",
        "#   '):' : '☹️',\n",
        "#   ':(' : '☹️',\n",
        "#   ':-(': '☹️',\n",
        "#   '=(' : '☹️',\n",
        "#   ':\"(': '😢',\n",
        "#   \":'(\": '😢',\n",
        "#   ':D' : '😄',\n",
        "#   'D:' : '😄',\n",
        "#   '^_^': '😄',\n",
        "#   ':P' : '😛',\n",
        "#   ';)' : '😉'\n",
        "# }\n",
        "# def replace_with(Found_Emoji):\n",
        "#   Found_Emoji = Found_Emoji.group(0)\n",
        "#   emoji = \" \"+map[Found_Emoji]+\" \"\n",
        "#   return emoji\n",
        "\n",
        "# def replace(sentence):\n",
        "#   result = re.sub(r\"\\(:|:\\)|:-\\)|=\\)|\\):|:\\(|:-\\(|=\\(|:\\\"\\(|:'\\(|:D|D:|\\^_\\^|:P|;\\)\",replace_with, sentence)\n",
        "#   return result\n",
        "\n",
        "# all_train_data.text = all_train_data.text.apply(replace)\n",
        "# test.Text = test.Text.apply(replace)"
      ],
      "execution_count": null,
      "outputs": []
    },
    {
      "cell_type": "code",
      "metadata": {
        "colab": {
          "base_uri": "https://localhost:8080/"
        },
        "id": "0TGsKWAud4pp",
        "outputId": "f0093a9d-7a0c-42e4-90f1-9e66c0d16575"
      },
      "source": [
        "#Apply the cleaning\n",
        "sarcasm_df.text= sarcasm_df.text.apply(preprocess)"
      ],
      "execution_count": null,
      "outputs": [
        {
          "output_type": "stream",
          "text": [
            "/usr/local/lib/python3.7/dist-packages/ipykernel_launcher.py:109: FutureWarning:\n",
            "\n",
            "Possible nested set at position 1\n",
            "\n"
          ],
          "name": "stderr"
        }
      ]
    },
    {
      "cell_type": "code",
      "metadata": {
        "id": "caWqxs_IzBKO"
      },
      "source": [
        "#Replacing conditions\n",
        "sarcasm_df.text = sarcasm_df.apply(lambda x : re.sub(r'\"',\"\",x['text']),axis=1)\n",
        "sarcasm_df.text = sarcasm_df.apply(lambda x : re.sub(r\"[#]+\",\" هاشتاج \",x['text']),axis=1)\n",
        "sarcasm_df.text = sarcasm_df.apply(lambda x : re.sub(r\"[_|-|:|.|(|)|—]+\",\" \",x['text']),axis=1)"
      ],
      "execution_count": null,
      "outputs": []
    },
    {
      "cell_type": "code",
      "metadata": {
        "id": "iExEWOtnwl1C",
        "colab": {
          "base_uri": "https://localhost:8080/",
          "height": 34
        },
        "outputId": "eb60b237-117b-45c8-eab6-202e2c62ef29"
      },
      "source": [
        "dtale.show(sarcasm_df)"
      ],
      "execution_count": null,
      "outputs": [
        {
          "output_type": "execute_result",
          "data": {
            "text/plain": [
              "https://urka2jsg67h-496ff2e9c6d22116-40000-colab.googleusercontent.com/dtale/main/3"
            ]
          },
          "metadata": {
            "tags": []
          },
          "execution_count": 54
        }
      ]
    },
    {
      "cell_type": "code",
      "metadata": {
        "id": "gmCJ76qnyten"
      },
      "source": [
        "all_data = pd.concat([sarcasm_df,mazajk_df],ignore_index=True)"
      ],
      "execution_count": null,
      "outputs": []
    },
    {
      "cell_type": "code",
      "metadata": {
        "id": "yddYvfE1d4pq",
        "colab": {
          "base_uri": "https://localhost:8080/"
        },
        "outputId": "e7f7608e-9a04-414e-dc0a-1555eeeb66eb"
      },
      "source": [
        "all_data.label = all_data.label.map({\"negative\":\"Negative\",\"positive\":\"Positive\",\"neutral\":\"Neutral\"}.get)\n",
        "all_data.label.value_counts()\n"
      ],
      "execution_count": null,
      "outputs": [
        {
          "output_type": "execute_result",
          "data": {
            "text/plain": [
              "Negative    24061\n",
              "Positive    22553\n",
              "Neutral      3926\n",
              "Name: label, dtype: int64"
            ]
          },
          "metadata": {
            "tags": []
          },
          "execution_count": 63
        }
      ]
    },
    {
      "cell_type": "code",
      "metadata": {
        "id": "4K0XBkduog9I"
      },
      "source": [
        "all_data.to_csv(\"CLeaned_data.csv\",index=False)"
      ],
      "execution_count": null,
      "outputs": []
    },
    {
      "cell_type": "code",
      "metadata": {
        "id": "tEL_9emZol7W"
      },
      "source": [
        ""
      ],
      "execution_count": null,
      "outputs": []
    },
    {
      "cell_type": "code",
      "metadata": {
        "id": "TNY0rNEpozNm"
      },
      "source": [
        ""
      ],
      "execution_count": null,
      "outputs": []
    },
    {
      "cell_type": "code",
      "metadata": {
        "id": "3IjLRYgxd4pr"
      },
      "source": [
        ""
      ],
      "execution_count": null,
      "outputs": []
    },
    {
      "cell_type": "markdown",
      "metadata": {
        "id": "z9DOoRhVNDqu"
      },
      "source": [
        "##Imports"
      ]
    },
    {
      "cell_type": "code",
      "metadata": {
        "colab": {
          "base_uri": "https://localhost:8080/"
        },
        "id": "Zi1QiB1Kmwje",
        "outputId": "5eb26c27-235d-4727-de8a-e6ebbe17b60b"
      },
      "source": [
        "!nvidia-smi"
      ],
      "execution_count": null,
      "outputs": [
        {
          "output_type": "stream",
          "text": [
            "Wed May 19 04:55:03 2021       \n",
            "+-----------------------------------------------------------------------------+\n",
            "| NVIDIA-SMI 465.19.01    Driver Version: 460.32.03    CUDA Version: 11.2     |\n",
            "|-------------------------------+----------------------+----------------------+\n",
            "| GPU  Name        Persistence-M| Bus-Id        Disp.A | Volatile Uncorr. ECC |\n",
            "| Fan  Temp  Perf  Pwr:Usage/Cap|         Memory-Usage | GPU-Util  Compute M. |\n",
            "|                               |                      |               MIG M. |\n",
            "|===============================+======================+======================|\n",
            "|   0  Tesla T4            Off  | 00000000:00:04.0 Off |                    0 |\n",
            "| N/A   32C    P8     9W /  70W |      0MiB / 15109MiB |      0%      Default |\n",
            "|                               |                      |                  N/A |\n",
            "+-------------------------------+----------------------+----------------------+\n",
            "                                                                               \n",
            "+-----------------------------------------------------------------------------+\n",
            "| Processes:                                                                  |\n",
            "|  GPU   GI   CI        PID   Type   Process name                  GPU Memory |\n",
            "|        ID   ID                                                   Usage      |\n",
            "|=============================================================================|\n",
            "|  No running processes found                                                 |\n",
            "+-----------------------------------------------------------------------------+\n"
          ],
          "name": "stdout"
        }
      ]
    },
    {
      "cell_type": "code",
      "metadata": {
        "id": "H-BaVRKavgyx"
      },
      "source": [
        "!pip install transformers\n",
        "# !pip install dtale"
      ],
      "execution_count": null,
      "outputs": []
    },
    {
      "cell_type": "code",
      "metadata": {
        "colab": {
          "base_uri": "https://localhost:8080/"
        },
        "id": "_8bgY7aiFQzs",
        "outputId": "ab2fab5e-8a57-455a-a115-865844df22da"
      },
      "source": [
        "from transformers import BertForSequenceClassification, BertTokenizerFast, Trainer, TrainingArguments,AutoTokenizer\n",
        "from transformers import BertModel, BertTokenizer, AdamW, get_linear_schedule_with_warmup\n",
        "import seaborn as sns\n",
        "import transformers\n",
        "from transformers import BertModel, BertTokenizer, AdamW, get_linear_schedule_with_warmup\n",
        "import torch\n",
        "import numpy as np\n",
        "import pandas as pd\n",
        "from transformers import AutoTokenizer, AutoModelForMaskedLM\n",
        "\n",
        "# import dtale\n",
        "# import dtale.app as dtale_app\n",
        "\n",
        "# dtale_app.USE_COLAB = True\n",
        "from tokenizers import Tokenizer\n",
        "from tqdm import tqdm_notebook\n",
        "import seaborn as sns\n",
        "from pylab import rcParams\n",
        "import matplotlib.pyplot as plt\n",
        "from matplotlib import rc\n",
        "from sklearn.model_selection import train_test_split\n",
        "from sklearn.metrics import confusion_matrix, classification_report\n",
        "from collections import defaultdict\n",
        "from textwrap import wrap\n",
        "from torch import nn, optim\n",
        "from torch.utils.data import Dataset, DataLoader\n",
        "\n",
        "import numpy as np\n",
        "import pandas as pd\n",
        "import torch\n",
        "import torch.nn as nn\n",
        "from sklearn.model_selection import train_test_split\n",
        "from sklearn.metrics import classification_report\n",
        "import transformers\n",
        "from transformers import AutoModel, BertTokenizerFast\n",
        "import torch\n",
        "import numpy as np\n",
        "from sklearn.metrics import accuracy_score, precision_recall_fscore_support\n",
        "import pandas as pd\n",
        "import numpy as np\n",
        "from sklearn.linear_model import SGDClassifier\n",
        "from sklearn.svm import SVC\n",
        "from sklearn import metrics\n",
        "from pprint import pprint\n",
        "from sklearn.preprocessing import MultiLabelBinarizer\n",
        "import tensorflow as tf\n",
        "import tensorflow_hub as hub\n",
        "import numpy as np\n",
        "import os, sys\n",
        "import pandas as pd\n",
        "from sklearn.metrics.pairwise import cosine_similarity\n",
        "from collections import defaultdict\n",
        "from nltk.stem import WordNetLemmatizer\n",
        "from nltk.corpus import names\n",
        "import nltk\n",
        "\n",
        "\n",
        "import numpy as np\n",
        "import pandas as pd\n",
        "import os\n",
        "import time\n",
        "import gc\n",
        "import random\n",
        "import torch\n",
        "from IPython.display import HTML\n",
        "\n",
        "\n",
        "nltk.download('names')\n",
        "nltk.download('wordnet')\n",
        "nltk.download('stopwords')\n",
        "nltk.download('punkt')\n",
        "from nltk import word_tokenize\n",
        "from nltk.stem.porter import PorterStemmer\n",
        "from nltk.corpus import stopwords\n",
        "import re \n",
        "from nltk.corpus import stopwords"
      ],
      "execution_count": null,
      "outputs": [
        {
          "output_type": "stream",
          "text": [
            "[nltk_data] Downloading package names to /root/nltk_data...\n",
            "[nltk_data]   Package names is already up-to-date!\n",
            "[nltk_data] Downloading package wordnet to /root/nltk_data...\n",
            "[nltk_data]   Package wordnet is already up-to-date!\n",
            "[nltk_data] Downloading package stopwords to /root/nltk_data...\n",
            "[nltk_data]   Package stopwords is already up-to-date!\n",
            "[nltk_data] Downloading package punkt to /root/nltk_data...\n",
            "[nltk_data]   Package punkt is already up-to-date!\n"
          ],
          "name": "stdout"
        }
      ]
    },
    {
      "cell_type": "code",
      "metadata": {
        "id": "hbf9QnwHSs53"
      },
      "source": [
        "pip install kornia"
      ],
      "execution_count": null,
      "outputs": []
    },
    {
      "cell_type": "code",
      "metadata": {
        "id": "7KcvSZEM14C4"
      },
      "source": [
        "model_name = ['UBC-NLP/MARBERT','cardiffnlp/twitter-xlm-roberta-base','aubmindlab/bert-base-arabertv02']"
      ],
      "execution_count": null,
      "outputs": []
    },
    {
      "cell_type": "code",
      "metadata": {
        "colab": {
          "base_uri": "https://localhost:8080/",
          "height": 213,
          "referenced_widgets": [
            "c59bf014220c4f4ea3609a0d5b4dd9ea",
            "e15964bd0df74b599fe441b0ba8657c4",
            "5fb6050dfb934af69b1b91aa276fca3f",
            "d40f03005340466ca2d38c1a44f488b1",
            "45b58ae7b92041c0a904c22192e00cc2",
            "06d2abdf7d75426a8bdcdb2ebaf247b4",
            "34346ab249ba42e09f8ab14d4fc9b864",
            "0c2529a8f8cd4206abbd8d3eeb50f73e",
            "f72e81bc48ef471dbe1395fba713f535",
            "fa292e82265b48d194db83cfd72b3a3c",
            "024e41ba40e34b6aa458cc817714f8f1",
            "770874f578514db494eab879fda5d6bb",
            "40cd3afca8284ebeb9c73d53af83ecac",
            "219aff0ca91b4e1abd4fdaf20a443a78",
            "3747472eafc34a14bfe5ba8b93be022c",
            "52f99e61287146e6958fabf3495b0cbe",
            "1a805732f8294593aed1e2b38ecb674c",
            "1a16d1fa43734666bf215baed62b9a3f",
            "13509723c8b14656a81e38d04364145d",
            "62df4eef4a4143ef9034067732992a66",
            "17f13e824a8b4201994a8597e17a8a6a",
            "0e6f91caee064d93a75f0143885e133e",
            "7a1483cd507e4216b966186d3a5e4a59",
            "5a9eaf691fb245ac8c66f4bfee6cfdb0",
            "eda58af432fe49d0adb6a5918310f5e3",
            "985ae5f625d44dc7be656eeca3e91b8f",
            "3f71597a99c94f1b96ac99327fc1463b",
            "e66a9c61f67c4860b85584b4909a8a6f",
            "f20f9291d1ff481abd8a126562198054",
            "c38ac94310f449c1ad08834c48d25b05",
            "8512c25f7707493f893970291a4cc523",
            "84c85cfd74f8429b8c1517bc656d1d1e"
          ]
        },
        "id": "9esM_Hvkh3Q4",
        "outputId": "f3fcd90e-7a23-4d98-e006-b9fb690ec832"
      },
      "source": [
        "# bert = AutoModel.from_pretrained('UBC-NLP/MARBERT')\n",
        "\n",
        "# Load the BERT tokenizer\n",
        "tokenizer = AutoTokenizer.from_pretrained(model_name[0])"
      ],
      "execution_count": null,
      "outputs": [
        {
          "output_type": "display_data",
          "data": {
            "application/vnd.jupyter.widget-view+json": {
              "model_id": "c59bf014220c4f4ea3609a0d5b4dd9ea",
              "version_minor": 0,
              "version_major": 2
            },
            "text/plain": [
              "HBox(children=(FloatProgress(value=0.0, description='Downloading', max=701.0, style=ProgressStyle(description_…"
            ]
          },
          "metadata": {
            "tags": []
          }
        },
        {
          "output_type": "stream",
          "text": [
            "\n"
          ],
          "name": "stdout"
        },
        {
          "output_type": "display_data",
          "data": {
            "application/vnd.jupyter.widget-view+json": {
              "model_id": "f72e81bc48ef471dbe1395fba713f535",
              "version_minor": 0,
              "version_major": 2
            },
            "text/plain": [
              "HBox(children=(FloatProgress(value=0.0, description='Downloading', max=1099714.0, style=ProgressStyle(descript…"
            ]
          },
          "metadata": {
            "tags": []
          }
        },
        {
          "output_type": "stream",
          "text": [
            "\n"
          ],
          "name": "stdout"
        },
        {
          "output_type": "display_data",
          "data": {
            "application/vnd.jupyter.widget-view+json": {
              "model_id": "1a805732f8294593aed1e2b38ecb674c",
              "version_minor": 0,
              "version_major": 2
            },
            "text/plain": [
              "HBox(children=(FloatProgress(value=0.0, description='Downloading', max=112.0, style=ProgressStyle(description_…"
            ]
          },
          "metadata": {
            "tags": []
          }
        },
        {
          "output_type": "stream",
          "text": [
            "\n"
          ],
          "name": "stdout"
        },
        {
          "output_type": "display_data",
          "data": {
            "application/vnd.jupyter.widget-view+json": {
              "model_id": "eda58af432fe49d0adb6a5918310f5e3",
              "version_minor": 0,
              "version_major": 2
            },
            "text/plain": [
              "HBox(children=(FloatProgress(value=0.0, description='Downloading', max=376.0, style=ProgressStyle(description_…"
            ]
          },
          "metadata": {
            "tags": []
          }
        },
        {
          "output_type": "stream",
          "text": [
            "\n"
          ],
          "name": "stdout"
        }
      ]
    },
    {
      "cell_type": "markdown",
      "metadata": {
        "id": "kddw1akBQXN7"
      },
      "source": [
        "##Model"
      ]
    },
    {
      "cell_type": "code",
      "metadata": {
        "id": "wLgVfbp7cT7l"
      },
      "source": [
        "train = pd.read_csv(\"/content/CLeaned_data.csv\")\n",
        "train.columns = ['text','sentiment']\n",
        "train.dropna(inplace=True)"
      ],
      "execution_count": null,
      "outputs": []
    },
    {
      "cell_type": "code",
      "metadata": {
        "colab": {
          "base_uri": "https://localhost:8080/"
        },
        "id": "xdAKOilwBNGj",
        "outputId": "67610980-c512-4923-cafc-04523649254e"
      },
      "source": [
        "train.sentiment.value_counts()"
      ],
      "execution_count": null,
      "outputs": [
        {
          "output_type": "execute_result",
          "data": {
            "text/plain": [
              "Negative    24061\n",
              "Positive    22553\n",
              "Neutral      3926\n",
              "Name: sentiment, dtype: int64"
            ]
          },
          "metadata": {
            "tags": []
          },
          "execution_count": 81
        }
      ]
    },
    {
      "cell_type": "code",
      "metadata": {
        "id": "eY0RwzFWd1SJ",
        "colab": {
          "base_uri": "https://localhost:8080/"
        },
        "outputId": "d93c97bc-24cd-408f-e902-b9cb340c080f"
      },
      "source": [
        "class_name = ['Negative','Positive','Neutral']\n",
        "train.sentiment = train.sentiment.map({'Negative':0,'Positive':1,\"Neutral\":2})\n",
        "\n",
        "device = torch.device(\"cuda:0\" if torch.cuda.is_available() else \"cpu\")\n",
        "train.sentiment.value_counts()"
      ],
      "execution_count": null,
      "outputs": [
        {
          "output_type": "execute_result",
          "data": {
            "text/plain": [
              "0    24061\n",
              "1    22553\n",
              "2     3926\n",
              "Name: sentiment, dtype: int64"
            ]
          },
          "metadata": {
            "tags": []
          },
          "execution_count": 82
        }
      ]
    },
    {
      "cell_type": "code",
      "metadata": {
        "colab": {
          "base_uri": "https://localhost:8080/",
          "height": 350
        },
        "id": "F2aeVdR8GG6B",
        "outputId": "cb03858c-e78b-425a-c1b8-109071387efc"
      },
      "source": [
        "import matplotlib.pyplot as plt\n",
        "\n",
        "token_lens = []\n",
        "for txt in train.text:\n",
        "  tokens = tokenizer.encode(txt, max_length=512)\n",
        "  token_lens.append(len(tokens))\n",
        "sns.distplot(token_lens)\n",
        "plt.xlim([0, 220]);\n",
        "plt.xlabel('Token count');\n",
        "print(\"MAX LENGTH: \",max(token_lens))"
      ],
      "execution_count": null,
      "outputs": [
        {
          "output_type": "stream",
          "text": [
            "/usr/local/lib/python3.7/dist-packages/seaborn/distributions.py:2557: FutureWarning: `distplot` is a deprecated function and will be removed in a future version. Please adapt your code to use either `displot` (a figure-level function with similar flexibility) or `histplot` (an axes-level function for histograms).\n",
            "  warnings.warn(msg, FutureWarning)\n"
          ],
          "name": "stderr"
        },
        {
          "output_type": "stream",
          "text": [
            "MAX LENGTH:  120\n"
          ],
          "name": "stdout"
        },
        {
          "output_type": "display_data",
          "data": {
            "image/png": "[encoded data removed]",
            "text/plain": [
              "<Figure size 432x288 with 1 Axes>"
            ]
          },
          "metadata": {
            "tags": [],
            "needs_background": "light"
          }
        }
      ]
    },
    {
      "cell_type": "code",
      "metadata": {
        "id": "zrKRkxhyG4O8"
      },
      "source": [
        "MAX_LEN = max(token_lens)"
      ],
      "execution_count": null,
      "outputs": []
    },
    {
      "cell_type": "code",
      "metadata": {
        "id": "vJHZ90J8HXTw"
      },
      "source": [
        "class GPReviewDataset(Dataset):\n",
        "  def __init__(self, reviews, targets, tokenizer, max_len):\n",
        "    self.reviews = reviews\n",
        "    self.targets = targets\n",
        "    self.tokenizer = tokenizer\n",
        "    self.max_len = max_len\n",
        "  def __len__(self):\n",
        "    return len(self.reviews)\n",
        "  def __getitem__(self, item):\n",
        "    review = str(self.reviews[item])\n",
        "    target = self.targets[item]\n",
        "    encoding = self.tokenizer.encode_plus(\n",
        "      review,\n",
        "      add_special_tokens=True,\n",
        "      max_length=self.max_len,\n",
        "      return_token_type_ids=False,\n",
        "      pad_to_max_length=True,\n",
        "      return_attention_mask=True,\n",
        "      return_tensors='pt',\n",
        "    )\n",
        "    return {\n",
        "      'review_text': review,\n",
        "      'input_ids': encoding['input_ids'].flatten(),\n",
        "      'attention_mask': encoding['attention_mask'].flatten(),\n",
        "      'targets': torch.tensor(target, dtype=torch.long)\n",
        "    }"
      ],
      "execution_count": null,
      "outputs": []
    },
    {
      "cell_type": "code",
      "metadata": {
        "id": "te2SJpB6HaiH"
      },
      "source": [
        "df_train, df_test = train_test_split(\n",
        "  train,\n",
        "  test_size=0.3,\n",
        "  random_state= np.random.seed(1234),\n",
        ")\n",
        "df_val, df_test = train_test_split(\n",
        "  df_test,\n",
        "  test_size=0.5,\n",
        "  random_state= np.random.seed(1234),\n",
        ")"
      ],
      "execution_count": null,
      "outputs": []
    },
    {
      "cell_type": "code",
      "metadata": {
        "colab": {
          "base_uri": "https://localhost:8080/"
        },
        "id": "KJw6ErhYMzyD",
        "outputId": "d81e720b-c014-4f77-c2dc-0664e6ad77df"
      },
      "source": [
        "print(len(df_train))\n",
        "print(len(df_val))\n",
        "print(len(df_test))"
      ],
      "execution_count": null,
      "outputs": [
        {
          "output_type": "stream",
          "text": [
            "35378\n",
            "7581\n",
            "7581\n"
          ],
          "name": "stdout"
        }
      ]
    },
    {
      "cell_type": "code",
      "metadata": {
        "id": "jMCtkJlHHpK1"
      },
      "source": [
        "def create_data_loader(df, tokenizer, max_len, batch_size):\n",
        "  ds = GPReviewDataset(\n",
        "    reviews=df.text.to_numpy(),\n",
        "    targets=df.sentiment.to_numpy(),\n",
        "    tokenizer=tokenizer,\n",
        "    max_len=max_len\n",
        "  )\n",
        "  return DataLoader(\n",
        "    ds,\n",
        "    batch_size=batch_size,\n",
        "    shuffle=True\n",
        "  )\n",
        "\n",
        "def create_test_data_loader(df, tokenizer, max_len, batch_size):\n",
        "  ds = GPReviewDataset(\n",
        "    reviews=df.text.to_numpy(),\n",
        "    targets=df.sentiment.to_numpy(),\n",
        "    tokenizer=tokenizer,\n",
        "    max_len=max_len\n",
        "  )\n",
        "  return DataLoader(\n",
        "    ds,\n",
        "    batch_size=batch_size,\n",
        "  )"
      ],
      "execution_count": null,
      "outputs": []
    },
    {
      "cell_type": "code",
      "metadata": {
        "id": "IWmLHbwMIBrb"
      },
      "source": [
        "def create_loader(BATCH_SIZE):\n",
        "\n",
        "  train_data_loader = create_data_loader(df_train, tokenizer, MAX_LEN, BATCH_SIZE)\n",
        "  val_data_loader = create_data_loader(df_val, tokenizer, MAX_LEN, BATCH_SIZE)\n",
        "  test_data_loader = create_test_data_loader(df_test, tokenizer, MAX_LEN, BATCH_SIZE)\n",
        "\n",
        "  return train_data_loader,val_data_loader, test_data_loader"
      ],
      "execution_count": null,
      "outputs": []
    },
    {
      "cell_type": "code",
      "metadata": {
        "id": "hefMd-loA76g"
      },
      "source": [
        "PRE_TRAINED_MODEL_NAME= model_name[0]"
      ],
      "execution_count": null,
      "outputs": []
    },
    {
      "cell_type": "code",
      "metadata": {
        "id": "HAw1K2ZF_Zic"
      },
      "source": [
        "## BERT With MLP\n",
        "\n",
        "class SentimentClassifier(nn.Module):\n",
        "  def __init__(self, n_classes,drop_value):\n",
        "    super(SentimentClassifier, self).__init__()\n",
        "    self.bert = AutoModel.from_pretrained(PRE_TRAINED_MODEL_NAME)\n",
        "    self.drop = nn.Dropout(p=drop_value)\n",
        "    self.out = nn.Sequential(\n",
        "            nn.Linear(self.bert.config.hidden_size, 50),\n",
        "            nn.ReLU(),\n",
        "            nn.Linear(50, n_classes)\n",
        "        )\n",
        "\n",
        "  def forward(self, input_ids, attention_mask):\n",
        "    dect_= self.bert(\n",
        "      input_ids=input_ids,\n",
        "      attention_mask=attention_mask\n",
        "    )\n",
        "    output = self.drop(dect_['pooler_output'])\n",
        "    return self.out(output)"
      ],
      "execution_count": null,
      "outputs": []
    },
    {
      "cell_type": "code",
      "metadata": {
        "colab": {
          "base_uri": "https://localhost:8080/",
          "height": 137,
          "referenced_widgets": [
            "8bf4ad9bd29d44f8b04064fd905d5e44",
            "cd33d1d07d3e4628bee3a042178f8388",
            "1970a420445e4a1db0259a03eb75e111",
            "7eb6406d28f14e55b4a6c99a8633ad12",
            "40b817dfd75946428e50d464a6612ae3",
            "89a3d67dfaaf4965a97d1a408f6b0701",
            "1f030d17809643b7a6505a71c3ab2f97",
            "3ae1d584337f4faaba247c8002dea06f"
          ]
        },
        "id": "Xu5xIA-4KsOq",
        "outputId": "adcae6fc-fcdf-4fd4-b490-26f54aabb148"
      },
      "source": [
        "model = SentimentClassifier(len(class_name),0.3)\n",
        "model = model.to(device)"
      ],
      "execution_count": null,
      "outputs": [
        {
          "output_type": "display_data",
          "data": {
            "application/vnd.jupyter.widget-view+json": {
              "model_id": "8bf4ad9bd29d44f8b04064fd905d5e44",
              "version_minor": 0,
              "version_major": 2
            },
            "text/plain": [
              "HBox(children=(FloatProgress(value=0.0, description='Downloading', max=654186400.0, style=ProgressStyle(descri…"
            ]
          },
          "metadata": {
            "tags": []
          }
        },
        {
          "output_type": "stream",
          "text": [
            "\n"
          ],
          "name": "stdout"
        },
        {
          "output_type": "stream",
          "text": [
            "Some weights of the model checkpoint at UBC-NLP/MARBERT were not used when initializing BertModel: ['cls.predictions.decoder.weight', 'cls.seq_relationship.bias', 'cls.predictions.transform.LayerNorm.bias', 'cls.predictions.transform.dense.weight', 'cls.predictions.bias', 'cls.seq_relationship.weight', 'cls.predictions.transform.dense.bias', 'cls.predictions.transform.LayerNorm.weight']\n",
            "- This IS expected if you are initializing BertModel from the checkpoint of a model trained on another task or with another architecture (e.g. initializing a BertForSequenceClassification model from a BertForPreTraining model).\n",
            "- This IS NOT expected if you are initializing BertModel from the checkpoint of a model that you expect to be exactly identical (initializing a BertForSequenceClassification model from a BertForSequenceClassification model).\n"
          ],
          "name": "stderr"
        }
      ]
    },
    {
      "cell_type": "code",
      "metadata": {
        "id": "17S6EnHbpc7U"
      },
      "source": [
        "import kornia\n",
        "from  kornia import losses"
      ],
      "execution_count": null,
      "outputs": []
    },
    {
      "cell_type": "code",
      "metadata": {
        "id": "aJPWMrovLcJX"
      },
      "source": [
        "from typing import Optional\n",
        "\n",
        "import torch\n",
        "import torch.nn as nn\n",
        "import torch.nn.functional as F\n",
        "\n",
        "from kornia.utils.one_hot import one_hot\n",
        "\n",
        "\n",
        "def linear_combination(x, y):\n",
        "  smoothing = 0.1\n",
        "  return smoothing * x + (1 - smoothing) * y\n",
        "\n",
        "\n",
        "def reduce_loss(loss):\n",
        "  reduction = 'mean'\n",
        "  return loss.mean() if reduction == 'mean' else loss.sum() \\\n",
        "    if reduction == 'sum' else loss\n",
        "\n",
        "\n",
        "def focal_loss(\n",
        "        input: torch.Tensor,\n",
        "        target: torch.Tensor,\n",
        "        alpha: float,\n",
        "        gamma: float = 2.0,\n",
        "        reduction: str = 'none',\n",
        "        eps: float = 1e-8) -> torch.Tensor:\n",
        "\n",
        "    if not isinstance(input, torch.Tensor):\n",
        "        raise TypeError(\"Input type is not a torch.Tensor. Got {}\"\n",
        "                        .format(type(input)))\n",
        "\n",
        "    if not len(input.shape) >= 2:\n",
        "        raise ValueError(\"Invalid input shape, we expect BxCx*. Got: {}\"\n",
        "                         .format(input.shape))\n",
        "\n",
        "    if input.size(0) != target.size(0):\n",
        "        raise ValueError('Expected input batch_size ({}) to match target batch_size ({}).'\n",
        "                         .format(input.size(0), target.size(0)))\n",
        "\n",
        "    n = input.size(0)\n",
        "    num_classes=input.shape[1]\n",
        "    out_size = (n,) + input.size()[2:]\n",
        "    if target.size()[1:] != input.size()[2:]:\n",
        "        raise ValueError('Expected target size {}, got {}'.format(\n",
        "            out_size, target.size()))\n",
        "\n",
        "    if not input.device == target.device:\n",
        "        raise ValueError(\n",
        "            \"input and target must be in the same device. Got: {} and {}\" .format(\n",
        "                input.device, target.device))\n",
        "\n",
        "    # compute softmax over the classes axis\n",
        "    input_soft: torch.Tensor = F.softmax(input, dim=1) + eps\n",
        "\n",
        "    loss_soft = reduce_loss(-input_soft.sum(dim=-1))\n",
        "    # create the labels one hot tensor\n",
        "    target_one_hot: torch.Tensor = one_hot(\n",
        "        target, num_classes=input.shape[1],\n",
        "        device=input.device, dtype=input.dtype)\n",
        "\n",
        "    # compute the actual focal loss\n",
        "    weight = torch.pow(-input_soft + 1., gamma)\n",
        "\n",
        "    focal = -alpha * weight * torch.log(input_soft)\n",
        "    loss_tmp = torch.sum(target_one_hot * focal, dim=1)\n",
        "    if reduction == 'none':\n",
        "        loss = loss_tmp\n",
        "    elif reduction == 'mean':\n",
        "        loss = torch.mean(loss_tmp)\n",
        "    elif reduction == 'sum':\n",
        "        loss = torch.sum(loss_tmp)\n",
        "    else:\n",
        "        raise NotImplementedError(\"Invalid reduction mode: {}\"\n",
        "                                  .format(reduction))\n",
        "    return linear_combination(loss_soft / num_classes, loss)\n",
        "\n",
        "\n",
        "class FocalLoss(nn.Module):\n",
        "\n",
        "    def __init__(self, alpha: float, gamma: float = 2.0,\n",
        "                 reduction: str = 'none', eps: float = 1e-8) -> None:\n",
        "        super(FocalLoss, self).__init__()\n",
        "        self.alpha: float = alpha\n",
        "        self.gamma: float = gamma\n",
        "        self.reduction: str = reduction\n",
        "        self.eps: float = eps\n",
        "\n",
        "    def forward(self, input: torch.Tensor, target: torch.Tensor) -> torch.Tensor:\n",
        "        return focal_loss(input, target, self.alpha, self.gamma, self.reduction, self.eps)"
      ],
      "execution_count": null,
      "outputs": []
    },
    {
      "cell_type": "code",
      "metadata": {
        "id": "i8_PIhYkLLGx"
      },
      "source": [
        "def optimization(learning_rate,EPOCHS,model,train_data_loader,num_warmup_steps):\n",
        "\n",
        "  optimizer = AdamW(model.parameters(),lr=learning_rate ,correct_bias=True)\n",
        "  total_steps = len(train_data_loader) * EPOCHS\n",
        "  scheduler = get_linear_schedule_with_warmup(\n",
        "    optimizer,\n",
        "    num_warmup_steps = num_warmup_steps,\n",
        "    num_training_steps=total_steps\n",
        "  )\n",
        "  loss_fn = FocalLoss(alpha=0.5, gamma=2.0, reduction='mean')\n",
        "\n",
        "  return optimizer, scheduler, loss_fn"
      ],
      "execution_count": null,
      "outputs": []
    },
    {
      "cell_type": "code",
      "metadata": {
        "id": "UqyPPJQ9LRDq"
      },
      "source": [
        "def train_epoch(\n",
        "  model,\n",
        "  data_loader,\n",
        "  loss_fn,\n",
        "  optimizer,\n",
        "  device,\n",
        "  scheduler,\n",
        "  n_examples\n",
        "):\n",
        "  model = model.train()\n",
        "  losses = []\n",
        "  correct_predictions = 0\n",
        "  for d in data_loader:\n",
        "    input_ids = d[\"input_ids\"].to(device)\n",
        "    attention_mask = d[\"attention_mask\"].to(device)\n",
        "    targets = d[\"targets\"].to(device)\n",
        "    outputs = model(\n",
        "      input_ids=input_ids,\n",
        "      attention_mask=attention_mask\n",
        "    )\n",
        "    _, preds = torch.max(outputs, dim=1)\n",
        "    loss = loss_fn(outputs, targets)\n",
        "    correct_predictions += torch.sum(preds == targets)\n",
        "    losses.append(loss.item())\n",
        "    loss.backward()\n",
        "    nn.utils.clip_grad_norm_(model.parameters(), max_norm=1.0)\n",
        "    optimizer.step()\n",
        "    scheduler.step()\n",
        "    optimizer.zero_grad()\n",
        "  return correct_predictions.double() / n_examples, np.mean(losses)"
      ],
      "execution_count": null,
      "outputs": []
    },
    {
      "cell_type": "code",
      "metadata": {
        "id": "JWCE6YBHLWaG"
      },
      "source": [
        "def eval_model(model, data_loader, loss_fn, device, n_examples):\n",
        "  model = model.eval()\n",
        "  losses = []\n",
        "  correct_predictions = 0\n",
        "  with torch.no_grad():\n",
        "    for d in data_loader:\n",
        "      input_ids = d[\"input_ids\"].to(device)\n",
        "      attention_mask = d[\"attention_mask\"].to(device)\n",
        "      targets = d[\"targets\"].to(device)\n",
        "      outputs = model(\n",
        "        input_ids=input_ids,\n",
        "        attention_mask=attention_mask\n",
        "      )\n",
        "      _, preds = torch.max(outputs, dim=1)\n",
        "      loss = loss_fn(outputs, targets)\n",
        "      correct_predictions += torch.sum(preds == targets)\n",
        "      losses.append(loss.item())\n",
        "  return correct_predictions.double() / n_examples, np.mean(losses)"
      ],
      "execution_count": null,
      "outputs": []
    },
    {
      "cell_type": "code",
      "metadata": {
        "id": "pleBaS-HF_yI"
      },
      "source": [
        "# # Configure the sweep – specify the parameters to search through, the search strategy, the optimization metric et all.\n",
        "# sweep_config = {\n",
        "#     'method': 'bayes', #grid, random\n",
        "#     'metric': {\n",
        "#       'name': 'Val loss',\n",
        "#       'goal': 'minimize'   \n",
        "#     },\n",
        "\n",
        "#     'early_terminate':{\n",
        "#     'type': 'hyperband',\n",
        "#     'max_iter': 3\n",
        "#     },\n",
        "#     'parameters': {\n",
        "#         'epochs': {\n",
        "#             'values': [2, 4, 5]\n",
        "#         },\n",
        "#         'dropout': {\n",
        "#             'values': [0.3, 0.4, 0.5]\n",
        "#         },\n",
        "\n",
        "#         'learning_rate': {\n",
        "#             'values': [1e-2, 1e-3, 1e-4, 3e-4, 3e-5, 1e-5,2e-5]\n",
        "#         },\n",
        "#          'BATCH_SIZE': {\n",
        "#             'values': [16, 32,64]\n",
        "#         },\n",
        "#         'num_warmup_steps':{\n",
        "#           'values':[2,5,8]  \n",
        "#         },\n",
        "#     }\n",
        "# }"
      ],
      "execution_count": null,
      "outputs": []
    },
    {
      "cell_type": "code",
      "metadata": {
        "id": "tQ2h7vkaG9sx"
      },
      "source": [
        "# sweep_id = wandb.sweep(sweep_config, entity=\"alymostafa\", project=\"sentiment_kaggle\")"
      ],
      "execution_count": null,
      "outputs": []
    },
    {
      "cell_type": "markdown",
      "metadata": {
        "id": "nV85fTlqup_0"
      },
      "source": [
        "## Training "
      ]
    },
    {
      "cell_type": "code",
      "metadata": {
        "id": "a6ncr34sLa63"
      },
      "source": [
        "def run_epochs():\n",
        "  history = defaultdict(list)\n",
        "  best_accuracy = 0\n",
        "\n",
        "  config_defaults = {\n",
        "  'epochs': 2,\n",
        "  'BATCH_SIZE': 16,\n",
        "  'learning_rate': 1e-5,\n",
        "  'dropout':0.3,\n",
        "  'num_warmup_steps' : 5,\n",
        "  'seed': 42\n",
        "  }\n",
        "  # wandb.init(config=config_defaults)\n",
        "\n",
        "  # config = wandb.config\n",
        "\n",
        "  model = SentimentClassifier(len(class_name),config_defaults['dropout'])\n",
        "  model = model.to(device)\n",
        "  \n",
        "\n",
        "  train_data_loader, val_data_loader, test_data_loader = create_loader(config_defaults['BATCH_SIZE'])\n",
        "\n",
        "  optimizer,scheduler, loss_fn =  optimization(config_defaults['learning_rate'], config_defaults['epochs'],model,train_data_loader,config_defaults['num_warmup_steps'])\n",
        "\n",
        "  for epoch in tqdm_notebook(range(config_defaults['epochs'])):\n",
        "    # print(f'Epoch {epoch + 1}/{config_defaults.epochs}')\n",
        "    # print('-' * 10)\n",
        "    train_acc, train_loss = train_epoch(\n",
        "      model,\n",
        "      train_data_loader,\n",
        "      loss_fn,\n",
        "      optimizer,\n",
        "      device,\n",
        "      scheduler,\n",
        "      len(df_train)\n",
        "    )\n",
        "    # wandb.log({\"Train loss\": train_loss})\n",
        "    # wandb.log({\"train_accuracy\": train_acc})\n",
        "    print(f'Train loss {train_loss} accuracy {train_acc}')\n",
        "    val_acc, val_loss = eval_model(\n",
        "      model,\n",
        "      val_data_loader,\n",
        "      loss_fn,\n",
        "      device,\n",
        "      len(df_val)\n",
        "    )\n",
        "    # wandb.log({\"Val loss\": val_loss})\n",
        "    # wandb.log({\"val_accuracy\": val_acc})\n",
        "    print(f'Val loss {val_loss} accuracy {val_acc}')\n",
        "    print()\n",
        "    history['train_acc'].append(train_acc)\n",
        "    history['train_loss'].append(train_loss)\n",
        "    history['val_acc'].append(val_acc)\n",
        "    history['val_loss'].append(val_loss)\n",
        "    if val_acc > best_accuracy:\n",
        "      torch.save(model.state_dict(), 'best_model_state.bin')\n",
        "      best_accuracy = val_acc\n",
        "    \n",
        "  return model, train_data_loader, val_data_loader, test_data_loader, optimizer, scheduler, loss_fn"
      ],
      "execution_count": null,
      "outputs": []
    },
    {
      "cell_type": "code",
      "metadata": {
        "colab": {
          "base_uri": "https://localhost:8080/",
          "height": 307,
          "referenced_widgets": [
            "2176b3c5e35946a29e3c0f66234784bf",
            "e2b10918a385453dbc57cdfa1f2f22f7",
            "197165df310a4eaa951595f72a28732a",
            "318d934dae30460c8c36eecd45d503d3",
            "dade4cd5dec9450296eddf5cf62a31f6",
            "79692eae0112486f9b61801057ab598c",
            "546867077d5d4b9584f9b301ed1a9e3c",
            "d13875efb3d943b1b426dbbb82e1f916"
          ]
        },
        "id": "thRgBHU1OIca",
        "outputId": "9c10d285-efec-4a5f-c1cc-7f2558e0a469"
      },
      "source": [
        "model, train_data_loader, val_data_loader, test_data_loader, optimizer, scheduler, loss_fn = run_epochs()"
      ],
      "execution_count": null,
      "outputs": [
        {
          "output_type": "stream",
          "text": [
            "Some weights of the model checkpoint at UBC-NLP/MARBERT were not used when initializing BertModel: ['cls.predictions.decoder.weight', 'cls.seq_relationship.bias', 'cls.predictions.transform.LayerNorm.bias', 'cls.predictions.transform.dense.weight', 'cls.predictions.bias', 'cls.seq_relationship.weight', 'cls.predictions.transform.dense.bias', 'cls.predictions.transform.LayerNorm.weight']\n",
            "- This IS expected if you are initializing BertModel from the checkpoint of a model trained on another task or with another architecture (e.g. initializing a BertForSequenceClassification model from a BertForPreTraining model).\n",
            "- This IS NOT expected if you are initializing BertModel from the checkpoint of a model that you expect to be exactly identical (initializing a BertForSequenceClassification model from a BertForSequenceClassification model).\n",
            "/usr/local/lib/python3.7/dist-packages/ipykernel_launcher.py:25: TqdmDeprecationWarning: This function will be removed in tqdm==5.0.0\n",
            "Please use `tqdm.notebook.tqdm` instead of `tqdm.tqdm_notebook`\n"
          ],
          "name": "stderr"
        },
        {
          "output_type": "display_data",
          "data": {
            "application/vnd.jupyter.widget-view+json": {
              "model_id": "2176b3c5e35946a29e3c0f66234784bf",
              "version_minor": 0,
              "version_major": 2
            },
            "text/plain": [
              "HBox(children=(FloatProgress(value=0.0, max=2.0), HTML(value='')))"
            ]
          },
          "metadata": {
            "tags": []
          }
        },
        {
          "output_type": "stream",
          "text": [
            "/usr/local/lib/python3.7/dist-packages/transformers/tokenization_utils_base.py:2110: FutureWarning: The `pad_to_max_length` argument is deprecated and will be removed in a future version, use `padding=True` or `padding='longest'` to pad to the longest sequence in the batch, or use `padding='max_length'` to pad to a max length. In this case, you can give a specific length with `max_length` (e.g. `max_length=45`) or leave max_length to None to pad to the maximal input size of the model (e.g. 512 for Bert).\n",
            "  FutureWarning,\n"
          ],
          "name": "stderr"
        },
        {
          "output_type": "stream",
          "text": [
            "Train loss 0.029859310075822564 accuracy 0.8370456215727289\n",
            "Val loss 0.010611221198196904 accuracy 0.8777206173328056\n",
            "\n",
            "Train loss -0.0009752053567031516 accuracy 0.9231160608287636\n",
            "Val loss 0.016251638814618316 accuracy 0.8820736050652948\n",
            "\n",
            "\n"
          ],
          "name": "stdout"
        }
      ]
    },
    {
      "cell_type": "markdown",
      "metadata": {
        "id": "wF6m-0unus50"
      },
      "source": [
        "## Prediction"
      ]
    },
    {
      "cell_type": "code",
      "metadata": {
        "colab": {
          "base_uri": "https://localhost:8080/"
        },
        "id": "L_uY7e4ROkoI",
        "outputId": "d06ada45-1645-416e-b5bd-6d482fe75776"
      },
      "source": [
        "test_acc, _ = eval_model(\n",
        "  model,\n",
        "  test_data_loader,\n",
        "  loss_fn,\n",
        "  device,\n",
        "  len(df_test)\n",
        ")\n",
        "test_acc.item()"
      ],
      "execution_count": null,
      "outputs": [
        {
          "output_type": "stream",
          "text": [
            "/usr/local/lib/python3.7/dist-packages/transformers/tokenization_utils_base.py:2110: FutureWarning: The `pad_to_max_length` argument is deprecated and will be removed in a future version, use `padding=True` or `padding='longest'` to pad to the longest sequence in the batch, or use `padding='max_length'` to pad to a max length. In this case, you can give a specific length with `max_length` (e.g. `max_length=45`) or leave max_length to None to pad to the maximal input size of the model (e.g. 512 for Bert).\n",
            "  FutureWarning,\n"
          ],
          "name": "stderr"
        },
        {
          "output_type": "execute_result",
          "data": {
            "text/plain": [
              "0.881018335311964"
            ]
          },
          "metadata": {
            "tags": []
          },
          "execution_count": 95
        }
      ]
    },
    {
      "cell_type": "code",
      "metadata": {
        "id": "1-1_X7bsiTZ1"
      },
      "source": [
        "from tqdm import tqdm_notebook\n",
        "def get_predictions(model, data_loader):\n",
        "  model = model.eval()\n",
        "  review_texts = []\n",
        "  predictions = []\n",
        "  prediction_probs = []\n",
        "  real_values = []\n",
        "  with torch.no_grad():\n",
        "    for d in tqdm_notebook(data_loader):\n",
        "      texts = d[\"review_text\"]\n",
        "      input_ids = d[\"input_ids\"].to(device)\n",
        "      attention_mask = d[\"attention_mask\"].to(device)\n",
        "      targets = d[\"targets\"].to(device)\n",
        "      outputs = model(\n",
        "        input_ids=input_ids,\n",
        "        attention_mask=attention_mask\n",
        "      )\n",
        "      _, preds = torch.max(outputs, dim=1)\n",
        "      review_texts.extend(texts)\n",
        "      predictions.extend(preds)\n",
        "      prediction_probs.extend(outputs)\n",
        "      real_values.extend(targets)\n",
        "  predictions = torch.stack(predictions).cpu()\n",
        "  prediction_probs = torch.stack(prediction_probs).cpu()\n",
        "  real_values = torch.stack(real_values).cpu()\n",
        "  return review_texts, predictions, prediction_probs,real_values"
      ],
      "execution_count": null,
      "outputs": []
    },
    {
      "cell_type": "code",
      "metadata": {
        "colab": {
          "base_uri": "https://localhost:8080/",
          "height": 171,
          "referenced_widgets": [
            "6cc4d9f4769a4f7ab1b57f6633a5a3bd",
            "1861f59ddf444203bf85800c0ed432a9",
            "b90d29644b2b4ff2937ff46cf627f866",
            "8946aa9064d240b4aa95b29371599f33",
            "23cf5bf4b56248f98ceb84d97266f718",
            "2a29180306bb4aa993cbed7fe8ecf129",
            "9f3de2ca818d4bce9283532da0070277",
            "32778a431b6541f2ba13a1937d7b6437"
          ]
        },
        "id": "KQEWCmRjieVg",
        "outputId": "5e56977f-6b31-4781-e0b2-a74928d82f2f"
      },
      "source": [
        "y_review_texts, y_pred, y_pred_probs, y_test = get_predictions(\n",
        "  model,\n",
        "  test_data_loader\n",
        ")"
      ],
      "execution_count": null,
      "outputs": [
        {
          "output_type": "stream",
          "text": [
            "/usr/local/lib/python3.7/dist-packages/ipykernel_launcher.py:9: TqdmDeprecationWarning: This function will be removed in tqdm==5.0.0\n",
            "Please use `tqdm.notebook.tqdm` instead of `tqdm.tqdm_notebook`\n",
            "  if __name__ == '__main__':\n"
          ],
          "name": "stderr"
        },
        {
          "output_type": "display_data",
          "data": {
            "application/vnd.jupyter.widget-view+json": {
              "model_id": "6cc4d9f4769a4f7ab1b57f6633a5a3bd",
              "version_minor": 0,
              "version_major": 2
            },
            "text/plain": [
              "HBox(children=(FloatProgress(value=0.0, max=474.0), HTML(value='')))"
            ]
          },
          "metadata": {
            "tags": []
          }
        },
        {
          "output_type": "stream",
          "text": [
            "/usr/local/lib/python3.7/dist-packages/transformers/tokenization_utils_base.py:2110: FutureWarning: The `pad_to_max_length` argument is deprecated and will be removed in a future version, use `padding=True` or `padding='longest'` to pad to the longest sequence in the batch, or use `padding='max_length'` to pad to a max length. In this case, you can give a specific length with `max_length` (e.g. `max_length=45`) or leave max_length to None to pad to the maximal input size of the model (e.g. 512 for Bert).\n",
            "  FutureWarning,\n"
          ],
          "name": "stderr"
        },
        {
          "output_type": "stream",
          "text": [
            "\n"
          ],
          "name": "stdout"
        }
      ]
    },
    {
      "cell_type": "code",
      "metadata": {
        "colab": {
          "base_uri": "https://localhost:8080/"
        },
        "id": "DMQl71cziidw",
        "outputId": "079f101a-0eb8-4df3-b896-20de8ff4d23d"
      },
      "source": [
        "print(classification_report(y_test, y_pred, target_names=class_name))"
      ],
      "execution_count": null,
      "outputs": [
        {
          "output_type": "stream",
          "text": [
            "              precision    recall  f1-score   support\n",
            "\n",
            "    Negative       0.89      0.91      0.90      3608\n",
            "    Positive       0.91      0.88      0.89      3370\n",
            "     Neutral       0.69      0.70      0.70       603\n",
            "\n",
            "    accuracy                           0.88      7581\n",
            "   macro avg       0.83      0.83      0.83      7581\n",
            "weighted avg       0.88      0.88      0.88      7581\n",
            "\n"
          ],
          "name": "stdout"
        }
      ]
    },
    {
      "cell_type": "code",
      "metadata": {
        "colab": {
          "base_uri": "https://localhost:8080/",
          "height": 300
        },
        "id": "gkrZtXk7iyMY",
        "outputId": "25d6c326-a86f-4a23-eb05-d9cc9053d4e3"
      },
      "source": [
        "def show_confusion_matrix(confusion_matrix):\n",
        "  hmap = sns.heatmap(confusion_matrix, annot=True, fmt=\"d\", cmap=\"Blues\")\n",
        "  hmap.yaxis.set_ticklabels(hmap.yaxis.get_ticklabels(), rotation=0, ha='right')\n",
        "  hmap.xaxis.set_ticklabels(hmap.xaxis.get_ticklabels(), rotation=30, ha='right')\n",
        "  plt.ylabel('True sentiment')\n",
        "  plt.xlabel('Predicted sentiment');\n",
        "cm = confusion_matrix(y_test, y_pred)\n",
        "df_cm = pd.DataFrame(cm, index=class_name, columns=class_name)\n",
        "show_confusion_matrix(df_cm)"
      ],
      "execution_count": null,
      "outputs": [
        {
          "output_type": "display_data",
          "data": {
            "image/png": "[encoded data removed]",
            "text/plain": [
              "<Figure size 432x288 with 2 Axes>"
            ]
          },
          "metadata": {
            "tags": [],
            "needs_background": "light"
          }
        }
      ]
    },
    {
      "cell_type": "code",
      "metadata": {
        "id": "l7R3LANVEpx9"
      },
      "source": [
        "\n",
        "# test = pd.read_csv('/content/test_version3_1.csv')\n",
        "# dashboard_nostopwords.rename(columns={\"Text\":\"text\"},inplace=True)\n",
        "# dashboard_nostopwords['sentiment'] = 0\n",
        "# dashboard_nostopwords['prob'] = 0\n",
        "# dashboard_nostopwords['all_prob'] = 0\n",
        "# test_dash_no_stopwords = create_test_data_loader(dashboard_nostopwords, tokenizer, MAX_LEN, 16)\n",
        "\n",
        "# y_review_texts, y_pred, y_pred_probs, y_test = get_predictions(\n",
        "#   model,\n",
        "#   test_dash_no_stopwords,\n",
        "# )\n",
        "\n",
        "# dashboard_nostopwords['sentiment'] = y_pred.numpy().tolist() \n",
        "\n",
        "\n",
        "# m = nn.Softmax(dim=1)\n",
        "# soft_prob = m(y_pred_probs)\n",
        "# prob_list = [i.max().item() for i in soft_prob]\n",
        "# dashboard_nostopwords['prob'] = prob_list\n",
        "\n",
        "# prob_list_lamo = [i for i in soft_prob]\n",
        "# dashboard_nostopwords['all_prob'] = prob_list_lamo\n",
        "\n",
        "\n",
        "# dashboard_nostopwords.sentiment = dashboard_nostopwords.sentiment.apply({1:\"Positive\", 0:'Negative', 2:\"Neutral\"}.get)"
      ],
      "execution_count": null,
      "outputs": []
    },
    {
      "cell_type": "markdown",
      "metadata": {
        "id": "A8uzcrYK8nUP"
      },
      "source": [
        "#interpretability"
      ]
    },
    {
      "cell_type": "code",
      "metadata": {
        "id": "Ctw1bgGe-ZXc",
        "colab": {
          "base_uri": "https://localhost:8080/"
        },
        "outputId": "d50974db-70f0-466e-8d7b-e9d17d71d982"
      },
      "source": [
        "pip install transformers-interpret\n"
      ],
      "execution_count": null,
      "outputs": [
        {
          "output_type": "stream",
          "text": [
            "Installing collected packages: captum, transformers-interpret\n",
            "Successfully installed captum-0.3.1 transformers-interpret-0.3.1\n"
          ],
          "name": "stdout"
        }
      ]
    },
    {
      "cell_type": "code",
      "metadata": {
        "id": "AG5O9dID-2xX"
      },
      "source": [
        "# model = SentimentClassifier(3,0.3)\n",
        "# model = model.to(device)\n",
        "# optimizer = AdamW(model.parameters(), lr=1e-5, correct_bias=True)"
      ],
      "execution_count": null,
      "outputs": []
    },
    {
      "cell_type": "code",
      "metadata": {
        "colab": {
          "base_uri": "https://localhost:8080/"
        },
        "id": "lsv-szoK-tn3",
        "outputId": "a220e8a1-6064-4e87-dda3-03482ca99d97"
      },
      "source": [
        "# output_model =\"/content/best_model_state.bin\"\n",
        "# checkpoint = torch.load(output_model, map_location='cuda')\n",
        "# model.load_state_dict(checkpoint)"
      ],
      "execution_count": null,
      "outputs": [
        {
          "output_type": "execute_result",
          "data": {
            "text/plain": [
              "<All keys matched successfully>"
            ]
          },
          "metadata": {
            "tags": []
          },
          "execution_count": 123
        }
      ]
    },
    {
      "cell_type": "code",
      "metadata": {
        "id": "f7C4dFa1LbkU"
      },
      "source": [
        "import transformers_interpret"
      ],
      "execution_count": null,
      "outputs": []
    },
    {
      "cell_type": "code",
      "metadata": {
        "id": "AxpFCFTlLkym"
      },
      "source": [
        "transformers_interpret."
      ],
      "execution_count": null,
      "outputs": []
    },
    {
      "cell_type": "code",
      "metadata": {
        "id": "ODqwGOSe8w88",
        "colab": {
          "base_uri": "https://localhost:8080/"
        },
        "outputId": "afb70223-214b-4afd-f8e8-51fa889c0301"
      },
      "source": [
        "from transformers import AutoModelForSequenceClassification, AutoTokenizer\n",
        "model = AutoModelForSequenceClassification.from_pretrained(PRE_TRAINED_MODEL_NAME)\n",
        "tokenizer = AutoTokenizer.from_pretrained(PRE_TRAINED_MODEL_NAME)\n",
        "\n",
        "# With both the model and tokenizer initialized we are now able to get explanations on an example text.\n",
        "from transformers_interpret import SequenceClassificationExplainer\n",
        "cls_explainer = SequenceClassificationExplainer(\n",
        "    model,\n",
        "    tokenizer)\n"
      ],
      "execution_count": null,
      "outputs": [
        {
          "output_type": "stream",
          "text": [
            "Some weights of the model checkpoint at UBC-NLP/MARBERT were not used when initializing BertForSequenceClassification: ['cls.predictions.decoder.weight', 'cls.seq_relationship.bias', 'cls.predictions.transform.LayerNorm.bias', 'cls.predictions.transform.dense.weight', 'cls.predictions.bias', 'cls.seq_relationship.weight', 'cls.predictions.transform.dense.bias', 'cls.predictions.transform.LayerNorm.weight']\n",
            "- This IS expected if you are initializing BertForSequenceClassification from the checkpoint of a model trained on another task or with another architecture (e.g. initializing a BertForSequenceClassification model from a BertForPreTraining model).\n",
            "- This IS NOT expected if you are initializing BertForSequenceClassification from the checkpoint of a model that you expect to be exactly identical (initializing a BertForSequenceClassification model from a BertForSequenceClassification model).\n",
            "Some weights of BertForSequenceClassification were not initialized from the model checkpoint at UBC-NLP/MARBERT and are newly initialized: ['classifier.weight', 'classifier.bias']\n",
            "You should probably TRAIN this model on a down-stream task to be able to use it for predictions and inference.\n"
          ],
          "name": "stderr"
        }
      ]
    },
    {
      "cell_type": "code",
      "metadata": {
        "colab": {
          "base_uri": "https://localhost:8080/"
        },
        "id": "OFx3endn8w0K",
        "outputId": "5dd722e8-e45d-4c6c-9f99-599c90092cf7"
      },
      "source": [
        "test_data_loader.dataset.reviews\n"
      ],
      "execution_count": null,
      "outputs": [
        {
          "output_type": "execute_result",
          "data": {
            "text/plain": [
              "array(['في غيبوبة للاسف .الحالة خطرة جدا . ',\n",
              "       'براحة علينا شوية انت هتزعق ولا ايه .',\n",
              "       'انا اقول حبيتك لله فى لله كدا ليه  . ', ...,\n",
              "       ' كلب إسرائيل وسيفها الإرهابي بوتن قاتل النساء والأطفال ظهرت حقيقته الإجرامية الحاقدة ، وكل الدول تقف معه قلبا وقلباوتعمل على بقاء السفاح بشار ',\n",
              "       'حتى عندنا كان النت مقطوع . ',\n",
              "       ' مستخدم  مبروك عليك ويندوز      ربنا يخلهولك'], dtype=object)"
            ]
          },
          "metadata": {
            "tags": []
          },
          "execution_count": 109
        }
      ]
    },
    {
      "cell_type": "code",
      "metadata": {
        "id": "hCqZ3Idi9xp3"
      },
      "source": [
        "word_attributions = cls_explainer(' نصيحه ما عمرك اتنزل لعبة سوبر ماريو مش زي ما كنا متوقعين الله يرحم ايامات السيقا والفاميلي  هاشتاج    ')\n"
      ],
      "execution_count": null,
      "outputs": []
    },
    {
      "cell_type": "code",
      "metadata": {
        "colab": {
          "base_uri": "https://localhost:8080/",
          "height": 35
        },
        "id": "_LptwQY78wqi",
        "outputId": "62842244-5054-448c-f843-3b46988fc688"
      },
      "source": [
        "cls_explainer.predicted_class_name"
      ],
      "execution_count": null,
      "outputs": [
        {
          "output_type": "execute_result",
          "data": {
            "application/vnd.google.colaboratory.intrinsic+json": {
              "type": "string"
            },
            "text/plain": [
              "'LABEL_0'"
            ]
          },
          "metadata": {
            "tags": []
          },
          "execution_count": 118
        }
      ]
    },
    {
      "cell_type": "code",
      "metadata": {
        "colab": {
          "base_uri": "https://localhost:8080/"
        },
        "id": "qJ16bfXq8wht",
        "outputId": "b6594b27-2b10-4e23-f34b-0c16644982b0"
      },
      "source": [
        "word_attributions"
      ],
      "execution_count": null,
      "outputs": [
        {
          "output_type": "execute_result",
          "data": {
            "text/plain": [
              "[('[CLS]', 0.0),\n",
              " ('نصيحه', 0.09549759213309242),\n",
              " ('ما', -0.11287902801754987),\n",
              " ('عمرك', -0.10628086275928474),\n",
              " ('اتن', -0.18388401355838951),\n",
              " ('##زل', -0.20045502410336885),\n",
              " ('لعبة', -0.15244458456325946),\n",
              " ('سوبر', -0.1332822718344345),\n",
              " ('ماريو', -0.06277850367995111),\n",
              " ('مش', -0.21473116663450326),\n",
              " ('زي', 0.045846259803347514),\n",
              " ('ما', 0.09794286836566347),\n",
              " ('كنا', 0.35117183694875614),\n",
              " ('متوقعين', -0.43745736793306184),\n",
              " ('الله', 0.09330164467724644),\n",
              " ('يرحم', -0.11480477841198355),\n",
              " ('اياما', -0.33617346695795625),\n",
              " ('##ت', -0.32120857566684874),\n",
              " ('السي', -0.16175598941687083),\n",
              " ('##قا', -0.04268723150762631),\n",
              " ('والفا', -0.38331541097925376),\n",
              " ('##ميلي', -0.06414343970975489),\n",
              " ('هاشتاج', 0.24145967650082775),\n",
              " ('[SEP]', 0.0)]"
            ]
          },
          "metadata": {
            "tags": []
          },
          "execution_count": 119
        }
      ]
    },
    {
      "cell_type": "code",
      "metadata": {
        "id": "9T8cXy_S-E0_",
        "colab": {
          "base_uri": "https://localhost:8080/",
          "height": 35
        },
        "outputId": "cf9fb156-033c-484d-b10e-0398a29be7fb"
      },
      "source": [
        "train['text'][0]"
      ],
      "execution_count": null,
      "outputs": [
        {
          "output_type": "execute_result",
          "data": {
            "application/vnd.google.colaboratory.intrinsic+json": {
              "type": "string"
            },
            "text/plain": [
              "' نصيحه ما عمرك اتنزل لعبة سوبر ماريو مش زي ما كنا متوقعين الله يرحم ايامات السيقا والفاميلي  هاشتاج    '"
            ]
          },
          "metadata": {
            "tags": []
          },
          "execution_count": 116
        }
      ]
    },
    {
      "cell_type": "code",
      "metadata": {
        "id": "CucofzWy8wZ1"
      },
      "source": [
        "cls_explainer.visualize(\"distilbert_viz.html\")\n"
      ],
      "execution_count": null,
      "outputs": []
    },
    {
      "cell_type": "code",
      "metadata": {
        "id": "CkG4CEZM8wR5"
      },
      "source": [
        ""
      ],
      "execution_count": null,
      "outputs": []
    },
    {
      "cell_type": "code",
      "metadata": {
        "id": "EC8PatY63H9p"
      },
      "source": [
        ""
      ],
      "execution_count": null,
      "outputs": []
    }
  ]
}